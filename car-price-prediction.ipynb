{
 "cells": [
  {
   "cell_type": "code",
   "execution_count": 1,
   "metadata": {
    "_cell_guid": "b1076dfc-b9ad-4769-8c92-a6c4dae69d19",
    "_uuid": "8f2839f25d086af736a60e9eeb907d3b93b6e0e5",
    "execution": {
     "iopub.execute_input": "2021-06-26T17:41:56.906899Z",
     "iopub.status.busy": "2021-06-26T17:41:56.905224Z",
     "iopub.status.idle": "2021-06-26T17:42:00.380990Z",
     "shell.execute_reply": "2021-06-26T17:42:00.381517Z",
     "shell.execute_reply.started": "2021-06-26T15:56:19.034039Z"
    },
    "papermill": {
     "duration": 3.528201,
     "end_time": "2021-06-26T17:42:00.381815",
     "exception": false,
     "start_time": "2021-06-26T17:41:56.853614",
     "status": "completed"
    },
    "tags": []
   },
   "outputs": [],
   "source": [
    "import numpy as np\n",
    "import pandas as pd \n",
    "\n",
    "# Visualization\n",
    "import seaborn as sns\n",
    "import matplotlib.pyplot as plt"
   ]
  },
  {
   "cell_type": "code",
   "execution_count": 2,
   "metadata": {
    "execution": {
     "iopub.execute_input": "2021-06-26T17:42:00.480415Z",
     "iopub.status.busy": "2021-06-26T17:42:00.479338Z",
     "iopub.status.idle": "2021-06-26T17:42:00.531399Z",
     "shell.execute_reply": "2021-06-26T17:42:00.530177Z",
     "shell.execute_reply.started": "2021-06-26T16:30:58.592624Z"
    },
    "papermill": {
     "duration": 0.102324,
     "end_time": "2021-06-26T17:42:00.531559",
     "exception": false,
     "start_time": "2021-06-26T17:42:00.429235",
     "status": "completed"
    },
    "tags": []
   },
   "outputs": [],
   "source": [
    "cars = pd.read_csv('Car details v3.csv')"
   ]
  },
  {
   "cell_type": "code",
   "execution_count": 3,
   "metadata": {
    "execution": {
     "iopub.execute_input": "2021-06-26T17:42:00.638779Z",
     "iopub.status.busy": "2021-06-26T17:42:00.637953Z",
     "iopub.status.idle": "2021-06-26T17:42:00.662630Z",
     "shell.execute_reply": "2021-06-26T17:42:00.662073Z",
     "shell.execute_reply.started": "2021-06-26T16:30:59.921469Z"
    },
    "papermill": {
     "duration": 0.084298,
     "end_time": "2021-06-26T17:42:00.662761",
     "exception": false,
     "start_time": "2021-06-26T17:42:00.578463",
     "status": "completed"
    },
    "tags": []
   },
   "outputs": [
    {
     "data": {
      "text/html": [
       "<div>\n",
       "<style scoped>\n",
       "    .dataframe tbody tr th:only-of-type {\n",
       "        vertical-align: middle;\n",
       "    }\n",
       "\n",
       "    .dataframe tbody tr th {\n",
       "        vertical-align: top;\n",
       "    }\n",
       "\n",
       "    .dataframe thead th {\n",
       "        text-align: right;\n",
       "    }\n",
       "</style>\n",
       "<table border=\"1\" class=\"dataframe\">\n",
       "  <thead>\n",
       "    <tr style=\"text-align: right;\">\n",
       "      <th></th>\n",
       "      <th>name</th>\n",
       "      <th>year</th>\n",
       "      <th>selling_price</th>\n",
       "      <th>km_driven</th>\n",
       "      <th>fuel</th>\n",
       "      <th>seller_type</th>\n",
       "      <th>transmission</th>\n",
       "      <th>owner</th>\n",
       "      <th>mileage</th>\n",
       "      <th>engine</th>\n",
       "      <th>max_power</th>\n",
       "      <th>torque</th>\n",
       "      <th>seats</th>\n",
       "    </tr>\n",
       "  </thead>\n",
       "  <tbody>\n",
       "    <tr>\n",
       "      <th>0</th>\n",
       "      <td>Maruti Swift Dzire VDI</td>\n",
       "      <td>2014</td>\n",
       "      <td>450000</td>\n",
       "      <td>145500</td>\n",
       "      <td>Diesel</td>\n",
       "      <td>Individual</td>\n",
       "      <td>Manual</td>\n",
       "      <td>First Owner</td>\n",
       "      <td>23.4 kmpl</td>\n",
       "      <td>1248 CC</td>\n",
       "      <td>74 bhp</td>\n",
       "      <td>190Nm@ 2000rpm</td>\n",
       "      <td>5.0</td>\n",
       "    </tr>\n",
       "    <tr>\n",
       "      <th>1</th>\n",
       "      <td>Skoda Rapid 1.5 TDI Ambition</td>\n",
       "      <td>2014</td>\n",
       "      <td>370000</td>\n",
       "      <td>120000</td>\n",
       "      <td>Diesel</td>\n",
       "      <td>Individual</td>\n",
       "      <td>Manual</td>\n",
       "      <td>Second Owner</td>\n",
       "      <td>21.14 kmpl</td>\n",
       "      <td>1498 CC</td>\n",
       "      <td>103.52 bhp</td>\n",
       "      <td>250Nm@ 1500-2500rpm</td>\n",
       "      <td>5.0</td>\n",
       "    </tr>\n",
       "    <tr>\n",
       "      <th>2</th>\n",
       "      <td>Honda City 2017-2020 EXi</td>\n",
       "      <td>2006</td>\n",
       "      <td>158000</td>\n",
       "      <td>140000</td>\n",
       "      <td>Petrol</td>\n",
       "      <td>Individual</td>\n",
       "      <td>Manual</td>\n",
       "      <td>Third Owner</td>\n",
       "      <td>17.7 kmpl</td>\n",
       "      <td>1497 CC</td>\n",
       "      <td>78 bhp</td>\n",
       "      <td>12.7@ 2,700(kgm@ rpm)</td>\n",
       "      <td>5.0</td>\n",
       "    </tr>\n",
       "    <tr>\n",
       "      <th>3</th>\n",
       "      <td>Hyundai i20 Sportz Diesel</td>\n",
       "      <td>2010</td>\n",
       "      <td>225000</td>\n",
       "      <td>127000</td>\n",
       "      <td>Diesel</td>\n",
       "      <td>Individual</td>\n",
       "      <td>Manual</td>\n",
       "      <td>First Owner</td>\n",
       "      <td>23.0 kmpl</td>\n",
       "      <td>1396 CC</td>\n",
       "      <td>90 bhp</td>\n",
       "      <td>22.4 kgm at 1750-2750rpm</td>\n",
       "      <td>5.0</td>\n",
       "    </tr>\n",
       "    <tr>\n",
       "      <th>4</th>\n",
       "      <td>Maruti Swift VXI BSIII</td>\n",
       "      <td>2007</td>\n",
       "      <td>130000</td>\n",
       "      <td>120000</td>\n",
       "      <td>Petrol</td>\n",
       "      <td>Individual</td>\n",
       "      <td>Manual</td>\n",
       "      <td>First Owner</td>\n",
       "      <td>16.1 kmpl</td>\n",
       "      <td>1298 CC</td>\n",
       "      <td>88.2 bhp</td>\n",
       "      <td>11.5@ 4,500(kgm@ rpm)</td>\n",
       "      <td>5.0</td>\n",
       "    </tr>\n",
       "  </tbody>\n",
       "</table>\n",
       "</div>"
      ],
      "text/plain": [
       "                           name  year  selling_price  km_driven    fuel  \\\n",
       "0        Maruti Swift Dzire VDI  2014         450000     145500  Diesel   \n",
       "1  Skoda Rapid 1.5 TDI Ambition  2014         370000     120000  Diesel   \n",
       "2      Honda City 2017-2020 EXi  2006         158000     140000  Petrol   \n",
       "3     Hyundai i20 Sportz Diesel  2010         225000     127000  Diesel   \n",
       "4        Maruti Swift VXI BSIII  2007         130000     120000  Petrol   \n",
       "\n",
       "  seller_type transmission         owner     mileage   engine   max_power  \\\n",
       "0  Individual       Manual   First Owner   23.4 kmpl  1248 CC      74 bhp   \n",
       "1  Individual       Manual  Second Owner  21.14 kmpl  1498 CC  103.52 bhp   \n",
       "2  Individual       Manual   Third Owner   17.7 kmpl  1497 CC      78 bhp   \n",
       "3  Individual       Manual   First Owner   23.0 kmpl  1396 CC      90 bhp   \n",
       "4  Individual       Manual   First Owner   16.1 kmpl  1298 CC    88.2 bhp   \n",
       "\n",
       "                     torque  seats  \n",
       "0            190Nm@ 2000rpm    5.0  \n",
       "1       250Nm@ 1500-2500rpm    5.0  \n",
       "2     12.7@ 2,700(kgm@ rpm)    5.0  \n",
       "3  22.4 kgm at 1750-2750rpm    5.0  \n",
       "4     11.5@ 4,500(kgm@ rpm)    5.0  "
      ]
     },
     "execution_count": 3,
     "metadata": {},
     "output_type": "execute_result"
    }
   ],
   "source": [
    "cars.head()"
   ]
  },
  {
   "cell_type": "code",
   "execution_count": 4,
   "metadata": {
    "execution": {
     "iopub.execute_input": "2021-06-26T17:42:00.761404Z",
     "iopub.status.busy": "2021-06-26T17:42:00.760764Z",
     "iopub.status.idle": "2021-06-26T17:42:00.786259Z",
     "shell.execute_reply": "2021-06-26T17:42:00.786781Z",
     "shell.execute_reply.started": "2021-06-26T15:57:55.970391Z"
    },
    "papermill": {
     "duration": 0.077378,
     "end_time": "2021-06-26T17:42:00.786954",
     "exception": false,
     "start_time": "2021-06-26T17:42:00.709576",
     "status": "completed"
    },
    "tags": []
   },
   "outputs": [
    {
     "name": "stdout",
     "output_type": "stream",
     "text": [
      "<class 'pandas.core.frame.DataFrame'>\n",
      "RangeIndex: 8128 entries, 0 to 8127\n",
      "Data columns (total 13 columns):\n",
      " #   Column         Non-Null Count  Dtype  \n",
      "---  ------         --------------  -----  \n",
      " 0   name           8128 non-null   object \n",
      " 1   year           8128 non-null   int64  \n",
      " 2   selling_price  8128 non-null   int64  \n",
      " 3   km_driven      8128 non-null   int64  \n",
      " 4   fuel           8128 non-null   object \n",
      " 5   seller_type    8128 non-null   object \n",
      " 6   transmission   8128 non-null   object \n",
      " 7   owner          8128 non-null   object \n",
      " 8   mileage        7907 non-null   object \n",
      " 9   engine         7907 non-null   object \n",
      " 10  max_power      7913 non-null   object \n",
      " 11  torque         7906 non-null   object \n",
      " 12  seats          7907 non-null   float64\n",
      "dtypes: float64(1), int64(3), object(9)\n",
      "memory usage: 825.6+ KB\n"
     ]
    }
   ],
   "source": [
    "cars.info()"
   ]
  },
  {
   "cell_type": "code",
   "execution_count": 5,
   "metadata": {
    "execution": {
     "iopub.execute_input": "2021-06-26T17:42:00.883962Z",
     "iopub.status.busy": "2021-06-26T17:42:00.883048Z",
     "iopub.status.idle": "2021-06-26T17:42:00.897294Z",
     "shell.execute_reply": "2021-06-26T17:42:00.897749Z",
     "shell.execute_reply.started": "2021-06-26T15:58:30.379833Z"
    },
    "papermill": {
     "duration": 0.063358,
     "end_time": "2021-06-26T17:42:00.897894",
     "exception": false,
     "start_time": "2021-06-26T17:42:00.834536",
     "status": "completed"
    },
    "tags": []
   },
   "outputs": [
    {
     "data": {
      "text/plain": [
       "name               0\n",
       "year               0\n",
       "selling_price      0\n",
       "km_driven          0\n",
       "fuel               0\n",
       "seller_type        0\n",
       "transmission       0\n",
       "owner              0\n",
       "mileage          221\n",
       "engine           221\n",
       "max_power        215\n",
       "torque           222\n",
       "seats            221\n",
       "dtype: int64"
      ]
     },
     "execution_count": 5,
     "metadata": {},
     "output_type": "execute_result"
    }
   ],
   "source": [
    "# Let's findout how many null values are present\n",
    "cars.isnull().sum()"
   ]
  },
  {
   "cell_type": "code",
   "execution_count": 6,
   "metadata": {
    "execution": {
     "iopub.execute_input": "2021-06-26T17:42:00.995588Z",
     "iopub.status.busy": "2021-06-26T17:42:00.994757Z",
     "iopub.status.idle": "2021-06-26T17:42:01.022549Z",
     "shell.execute_reply": "2021-06-26T17:42:01.021987Z",
     "shell.execute_reply.started": "2021-06-26T16:31:10.405145Z"
    },
    "papermill": {
     "duration": 0.07689,
     "end_time": "2021-06-26T17:42:01.022689",
     "exception": false,
     "start_time": "2021-06-26T17:42:00.945799",
     "status": "completed"
    },
    "tags": []
   },
   "outputs": [],
   "source": [
    "# Let's go ahead and drop the null values\n",
    "cars.dropna(inplace=True)"
   ]
  },
  {
   "cell_type": "code",
   "execution_count": 7,
   "metadata": {
    "execution": {
     "iopub.execute_input": "2021-06-26T17:42:01.123801Z",
     "iopub.status.busy": "2021-06-26T17:42:01.123214Z",
     "iopub.status.idle": "2021-06-26T17:42:01.126874Z",
     "shell.execute_reply": "2021-06-26T17:42:01.127338Z",
     "shell.execute_reply.started": "2021-06-26T16:02:17.987899Z"
    },
    "papermill": {
     "duration": 0.056338,
     "end_time": "2021-06-26T17:42:01.127496",
     "exception": false,
     "start_time": "2021-06-26T17:42:01.071158",
     "status": "completed"
    },
    "tags": []
   },
   "outputs": [
    {
     "name": "stdout",
     "output_type": "stream",
     "text": [
      "Maruti Ritz VDi\n",
      "Maruti Omni E MPI STD BS IV\n",
      "Maruti SX4 S Cross 2015-2017 DDiS 200 Zeta\n",
      "Maruti Celerio ZXI Optional MT BSIV\n",
      "Hyundai i10 Sportz\n",
      "Honda Amaze E i-DTEC\n"
     ]
    }
   ],
   "source": [
    "# Let's goahead and check the name of few cars\n",
    "for i in range(6):\n",
    "    index = np.random.randint(1,7000)\n",
    "    print(cars['name'].iloc[index])"
   ]
  },
  {
   "cell_type": "code",
   "execution_count": 8,
   "metadata": {
    "execution": {
     "iopub.execute_input": "2021-06-26T17:42:01.224371Z",
     "iopub.status.busy": "2021-06-26T17:42:01.223753Z",
     "iopub.status.idle": "2021-06-26T17:42:01.229304Z",
     "shell.execute_reply": "2021-06-26T17:42:01.229811Z",
     "shell.execute_reply.started": "2021-06-26T16:31:18.459003Z"
    },
    "papermill": {
     "duration": 0.055871,
     "end_time": "2021-06-26T17:42:01.229974",
     "exception": false,
     "start_time": "2021-06-26T17:42:01.174103",
     "status": "completed"
    },
    "tags": []
   },
   "outputs": [],
   "source": [
    "# Different car belongs to different companies,have diferent model.There are no fixed set of names.\n",
    "# It would be very difficult to use this column to train our model. It will act as noise in the data which will only reduce the performence of the model.\n",
    "# Let's go ahead and drop this column\n",
    "cars.drop('name',axis = 1,inplace = True)"
   ]
  },
  {
   "cell_type": "code",
   "execution_count": 9,
   "metadata": {
    "execution": {
     "iopub.execute_input": "2021-06-26T17:42:01.328715Z",
     "iopub.status.busy": "2021-06-26T17:42:01.328094Z",
     "iopub.status.idle": "2021-06-26T17:42:01.767360Z",
     "shell.execute_reply": "2021-06-26T17:42:01.766762Z",
     "shell.execute_reply.started": "2021-06-26T16:07:22.293632Z"
    },
    "papermill": {
     "duration": 0.489657,
     "end_time": "2021-06-26T17:42:01.767500",
     "exception": false,
     "start_time": "2021-06-26T17:42:01.277843",
     "status": "completed"
    },
    "tags": []
   },
   "outputs": [
    {
     "data": {
      "text/plain": [
       "<AxesSubplot:xlabel='year', ylabel='count'>"
      ]
     },
     "execution_count": 9,
     "metadata": {},
     "output_type": "execute_result"
    },
    {
     "data": {
      "image/png": "[encoded data removed]",
      "text/plain": [
       "<Figure size 1080x432 with 1 Axes>"
      ]
     },
     "metadata": {
      "needs_background": "light"
     },
     "output_type": "display_data"
    }
   ],
   "source": [
    "# Let's check the year column\n",
    "plt.figure(figsize=(15,6))\n",
    "sns.set_style('darkgrid')\n",
    "sns.countplot(x='year',data=cars,palette='Spectral')"
   ]
  },
  {
   "cell_type": "code",
   "execution_count": 10,
   "metadata": {
    "execution": {
     "iopub.execute_input": "2021-06-26T17:42:01.876583Z",
     "iopub.status.busy": "2021-06-26T17:42:01.875569Z",
     "iopub.status.idle": "2021-06-26T17:42:01.880525Z",
     "shell.execute_reply": "2021-06-26T17:42:01.879992Z",
     "shell.execute_reply.started": "2021-06-26T16:39:17.111165Z"
    },
    "papermill": {
     "duration": 0.064629,
     "end_time": "2021-06-26T17:42:01.880657",
     "exception": false,
     "start_time": "2021-06-26T17:42:01.816028",
     "status": "completed"
    },
    "tags": []
   },
   "outputs": [],
   "source": [
    "# Let's try to use year in better way.As the list is from 2020.\n",
    "# We will add a new column number_of_year which will tell how old the car is\n",
    "cars['number_of_year'] = cars['year'].apply(lambda x:2020-x)\n",
    "\n",
    "# We will then drop the 'year' column\n",
    "cars.drop('year',axis=1,inplace=True)"
   ]
  },
  {
   "cell_type": "code",
   "execution_count": 11,
   "metadata": {
    "execution": {
     "iopub.execute_input": "2021-06-26T17:42:01.995161Z",
     "iopub.status.busy": "2021-06-26T17:42:01.994202Z",
     "iopub.status.idle": "2021-06-26T17:42:02.123990Z",
     "shell.execute_reply": "2021-06-26T17:42:02.123389Z",
     "shell.execute_reply.started": "2021-06-26T16:10:39.226606Z"
    },
    "papermill": {
     "duration": 0.194745,
     "end_time": "2021-06-26T17:42:02.124193",
     "exception": false,
     "start_time": "2021-06-26T17:42:01.929448",
     "status": "completed"
    },
    "tags": []
   },
   "outputs": [
    {
     "data": {
      "text/plain": [
       "<AxesSubplot:xlabel='fuel', ylabel='count'>"
      ]
     },
     "execution_count": 11,
     "metadata": {},
     "output_type": "execute_result"
    },
    {
     "data": {
      "image/png": "[encoded data removed]",
      "text/plain": [
       "<Figure size 432x288 with 1 Axes>"
      ]
     },
     "metadata": {},
     "output_type": "display_data"
    }
   ],
   "source": [
    "# Fuel Column\n",
    "sns.countplot(x='fuel',data=cars,palette='icefire')"
   ]
  },
  {
   "cell_type": "markdown",
   "metadata": {
    "papermill": {
     "duration": 0.048135,
     "end_time": "2021-06-26T17:42:02.221423",
     "exception": false,
     "start_time": "2021-06-26T17:42:02.173288",
     "status": "completed"
    },
    "tags": []
   },
   "source": [
    "**Majority of car ran on Diesel and Petrol.**"
   ]
  },
  {
   "cell_type": "code",
   "execution_count": 12,
   "metadata": {
    "execution": {
     "iopub.execute_input": "2021-06-26T17:42:02.349932Z",
     "iopub.status.busy": "2021-06-26T17:42:02.346582Z",
     "iopub.status.idle": "2021-06-26T17:42:04.128347Z",
     "shell.execute_reply": "2021-06-26T17:42:04.128873Z",
     "shell.execute_reply.started": "2021-06-26T16:12:53.825585Z"
    },
    "papermill": {
     "duration": 1.858503,
     "end_time": "2021-06-26T17:42:04.129039",
     "exception": false,
     "start_time": "2021-06-26T17:42:02.270536",
     "status": "completed"
    },
    "tags": []
   },
   "outputs": [
    {
     "data": {
      "text/plain": [
       "<AxesSubplot:xlabel='km_driven', ylabel='selling_price'>"
      ]
     },
     "execution_count": 12,
     "metadata": {},
     "output_type": "execute_result"
    },
    {
     "data": {
      "image/png": "[encoded data removed]",
      "text/plain": [
       "<Figure size 576x432 with 1 Axes>"
      ]
     },
     "metadata": {},
     "output_type": "display_data"
    }
   ],
   "source": [
    "# Lets check the km_driven column.\n",
    "plt.figure(figsize=(8,6))\n",
    "plt.yscale('log')\n",
    "plt.xscale('log')\n",
    "sns.scatterplot(x='km_driven',y='selling_price',data=cars,hue='fuel')"
   ]
  },
  {
   "cell_type": "markdown",
   "metadata": {
    "papermill": {
     "duration": 0.053012,
     "end_time": "2021-06-26T17:42:04.235883",
     "exception": false,
     "start_time": "2021-06-26T17:42:04.182871",
     "status": "completed"
    },
    "tags": []
   },
   "source": [
    "**Diesel-car were sold at higher price then Petrol-car**"
   ]
  },
  {
   "cell_type": "code",
   "execution_count": 13,
   "metadata": {
    "execution": {
     "iopub.execute_input": "2021-06-26T17:42:04.351712Z",
     "iopub.status.busy": "2021-06-26T17:42:04.350033Z",
     "iopub.status.idle": "2021-06-26T17:42:04.470015Z",
     "shell.execute_reply": "2021-06-26T17:42:04.469387Z",
     "shell.execute_reply.started": "2021-06-26T16:20:42.500747Z"
    },
    "papermill": {
     "duration": 0.180643,
     "end_time": "2021-06-26T17:42:04.470163",
     "exception": false,
     "start_time": "2021-06-26T17:42:04.289520",
     "status": "completed"
    },
    "tags": []
   },
   "outputs": [
    {
     "name": "stdout",
     "output_type": "stream",
     "text": [
      "Individual          6563\n",
      "Dealer              1107\n",
      "Trustmark Dealer     236\n",
      "Name: seller_type, dtype: int64\n",
      "\n",
      "\n"
     ]
    },
    {
     "data": {
      "text/plain": [
       "Text(0, 0.5, 'seller')"
      ]
     },
     "execution_count": 13,
     "metadata": {},
     "output_type": "execute_result"
    },
    {
     "data": {
      "image/png": "[encoded data removed]",
      "text/plain": [
       "<Figure size 432x288 with 1 Axes>"
      ]
     },
     "metadata": {},
     "output_type": "display_data"
    }
   ],
   "source": [
    "# Let's check seller type of the car\n",
    "print(cars['seller_type'].value_counts())\n",
    "print('\\n')\n",
    "\n",
    "cars.groupby('seller_type').size().plot(kind='pie',y='seller')\n",
    "plt.ylabel('seller')"
   ]
  },
  {
   "cell_type": "markdown",
   "metadata": {
    "papermill": {
     "duration": 0.056274,
     "end_time": "2021-06-26T17:42:04.582301",
     "exception": false,
     "start_time": "2021-06-26T17:42:04.526027",
     "status": "completed"
    },
    "tags": []
   },
   "source": [
    "**Majority of people did'nt go to any dealer to sell there car.**"
   ]
  },
  {
   "cell_type": "code",
   "execution_count": 14,
   "metadata": {
    "execution": {
     "iopub.execute_input": "2021-06-26T17:42:04.701873Z",
     "iopub.status.busy": "2021-06-26T17:42:04.701233Z",
     "iopub.status.idle": "2021-06-26T17:42:04.795593Z",
     "shell.execute_reply": "2021-06-26T17:42:04.794877Z",
     "shell.execute_reply.started": "2021-06-26T16:22:08.951044Z"
    },
    "papermill": {
     "duration": 0.158164,
     "end_time": "2021-06-26T17:42:04.795734",
     "exception": false,
     "start_time": "2021-06-26T17:42:04.637570",
     "status": "completed"
    },
    "tags": []
   },
   "outputs": [
    {
     "name": "stdout",
     "output_type": "stream",
     "text": [
      "Manual       6865\n",
      "Automatic    1041\n",
      "Name: transmission, dtype: int64\n",
      "\n",
      "\n"
     ]
    },
    {
     "data": {
      "text/plain": [
       "Text(0, 0.5, 'transmission')"
      ]
     },
     "execution_count": 14,
     "metadata": {},
     "output_type": "execute_result"
    },
    {
     "data": {
      "image/png": "[encoded data removed]",
      "text/plain": [
       "<Figure size 432x288 with 1 Axes>"
      ]
     },
     "metadata": {},
     "output_type": "display_data"
    }
   ],
   "source": [
    "# Let's check the transmission of cars\n",
    "print(cars['transmission'].value_counts())\n",
    "print('\\n')\n",
    "\n",
    "cars.groupby('transmission').size().plot(kind='pie',y='type')\n",
    "plt.ylabel('transmission')"
   ]
  },
  {
   "cell_type": "markdown",
   "metadata": {
    "papermill": {
     "duration": 0.056856,
     "end_time": "2021-06-26T17:42:04.909964",
     "exception": false,
     "start_time": "2021-06-26T17:42:04.853108",
     "status": "completed"
    },
    "tags": []
   },
   "source": [
    "**Majority of car had Manual transmission**"
   ]
  },
  {
   "cell_type": "code",
   "execution_count": 15,
   "metadata": {
    "execution": {
     "iopub.execute_input": "2021-06-26T17:42:05.034578Z",
     "iopub.status.busy": "2021-06-26T17:42:05.033885Z",
     "iopub.status.idle": "2021-06-26T17:42:06.106108Z",
     "shell.execute_reply": "2021-06-26T17:42:06.105603Z",
     "shell.execute_reply.started": "2021-06-26T16:24:13.891180Z"
    },
    "papermill": {
     "duration": 1.139365,
     "end_time": "2021-06-26T17:42:06.106253",
     "exception": false,
     "start_time": "2021-06-26T17:42:04.966888",
     "status": "completed"
    },
    "tags": []
   },
   "outputs": [
    {
     "name": "stdout",
     "output_type": "stream",
     "text": [
      "First Owner             5215\n",
      "Second Owner            2016\n",
      "Third Owner              510\n",
      "Fourth & Above Owner     160\n",
      "Test Drive Car             5\n",
      "Name: owner, dtype: int64\n",
      "\n",
      "\n"
     ]
    },
    {
     "data": {
      "text/plain": [
       "<AxesSubplot:xlabel='owner', ylabel='count'>"
      ]
     },
     "execution_count": 15,
     "metadata": {},
     "output_type": "execute_result"
    },
    {
     "data": {
      "image/png": "[encoded data removed]",
      "text/plain": [
       "<Figure size 576x360 with 1 Axes>"
      ]
     },
     "metadata": {},
     "output_type": "display_data"
    }
   ],
   "source": [
    "# Let's check the owner column\n",
    "print(cars['owner'].value_counts())\n",
    "print('\\n')\n",
    "\n",
    "plt.figure(figsize=(8,5))\n",
    "sns.countplot(x='owner',data=cars)"
   ]
  },
  {
   "cell_type": "code",
   "execution_count": 16,
   "metadata": {
    "execution": {
     "iopub.execute_input": "2021-06-26T17:42:06.283440Z",
     "iopub.status.busy": "2021-06-26T17:42:06.282418Z",
     "iopub.status.idle": "2021-06-26T17:42:06.474632Z",
     "shell.execute_reply": "2021-06-26T17:42:06.474065Z",
     "shell.execute_reply.started": "2021-06-26T16:26:16.573605Z"
    },
    "papermill": {
     "duration": 0.286459,
     "end_time": "2021-06-26T17:42:06.474757",
     "exception": false,
     "start_time": "2021-06-26T17:42:06.188298",
     "status": "completed"
    },
    "tags": []
   },
   "outputs": [
    {
     "data": {
      "text/plain": [
       "<AxesSubplot:xlabel='transmission', ylabel='count'>"
      ]
     },
     "execution_count": 16,
     "metadata": {},
     "output_type": "execute_result"
    },
    {
     "data": {
      "image/png": "[encoded data removed]",
      "text/plain": [
       "<Figure size 432x288 with 1 Axes>"
      ]
     },
     "metadata": {},
     "output_type": "display_data"
    }
   ],
   "source": [
    "# Let's check the fuel and transmission column together\n",
    "sns.countplot(x='transmission',data=cars,hue='fuel')"
   ]
  },
  {
   "cell_type": "code",
   "execution_count": 17,
   "metadata": {
    "execution": {
     "iopub.execute_input": "2021-06-26T17:42:06.643475Z",
     "iopub.status.busy": "2021-06-26T17:42:06.642420Z",
     "iopub.status.idle": "2021-06-26T17:42:06.646141Z",
     "shell.execute_reply": "2021-06-26T17:42:06.646568Z",
     "shell.execute_reply.started": "2021-06-26T16:31:30.185555Z"
    },
    "papermill": {
     "duration": 0.091372,
     "end_time": "2021-06-26T17:42:06.646731",
     "exception": false,
     "start_time": "2021-06-26T17:42:06.555359",
     "status": "completed"
    },
    "tags": []
   },
   "outputs": [
    {
     "data": {
      "text/plain": [
       "0     23.4 kmpl\n",
       "1    21.14 kmpl\n",
       "2     17.7 kmpl\n",
       "Name: mileage, dtype: object"
      ]
     },
     "execution_count": 17,
     "metadata": {},
     "output_type": "execute_result"
    }
   ],
   "source": [
    "# Let's check the mileage,engine and max_power column\n",
    "cars['mileage'].iloc[:3]"
   ]
  },
  {
   "cell_type": "code",
   "execution_count": 18,
   "metadata": {
    "execution": {
     "iopub.execute_input": "2021-06-26T17:42:06.817792Z",
     "iopub.status.busy": "2021-06-26T17:42:06.817083Z",
     "iopub.status.idle": "2021-06-26T17:42:06.819809Z",
     "shell.execute_reply": "2021-06-26T17:42:06.820398Z",
     "shell.execute_reply.started": "2021-06-26T16:31:48.379187Z"
    },
    "papermill": {
     "duration": 0.091711,
     "end_time": "2021-06-26T17:42:06.820565",
     "exception": false,
     "start_time": "2021-06-26T17:42:06.728854",
     "status": "completed"
    },
    "tags": []
   },
   "outputs": [
    {
     "data": {
      "text/plain": [
       "0    1248 CC\n",
       "1    1498 CC\n",
       "2    1497 CC\n",
       "Name: engine, dtype: object"
      ]
     },
     "execution_count": 18,
     "metadata": {},
     "output_type": "execute_result"
    }
   ],
   "source": [
    "cars['engine'].iloc[:3]"
   ]
  },
  {
   "cell_type": "code",
   "execution_count": 19,
   "metadata": {
    "execution": {
     "iopub.execute_input": "2021-06-26T17:42:06.988412Z",
     "iopub.status.busy": "2021-06-26T17:42:06.987731Z",
     "iopub.status.idle": "2021-06-26T17:42:06.994245Z",
     "shell.execute_reply": "2021-06-26T17:42:06.994837Z",
     "shell.execute_reply.started": "2021-06-26T16:32:05.616913Z"
    },
    "papermill": {
     "duration": 0.091718,
     "end_time": "2021-06-26T17:42:06.994999",
     "exception": false,
     "start_time": "2021-06-26T17:42:06.903281",
     "status": "completed"
    },
    "tags": []
   },
   "outputs": [
    {
     "data": {
      "text/plain": [
       "0        74 bhp\n",
       "1    103.52 bhp\n",
       "2        78 bhp\n",
       "Name: max_power, dtype: object"
      ]
     },
     "execution_count": 19,
     "metadata": {},
     "output_type": "execute_result"
    }
   ],
   "source": [
    "cars['max_power'].iloc[:3]"
   ]
  },
  {
   "cell_type": "code",
   "execution_count": 20,
   "metadata": {
    "execution": {
     "iopub.execute_input": "2021-06-26T17:42:07.166175Z",
     "iopub.status.busy": "2021-06-26T17:42:07.165549Z",
     "iopub.status.idle": "2021-06-26T17:42:07.928085Z",
     "shell.execute_reply": "2021-06-26T17:42:07.928564Z",
     "shell.execute_reply.started": "2021-06-26T16:33:19.925655Z"
    },
    "papermill": {
     "duration": 0.850362,
     "end_time": "2021-06-26T17:42:07.928753",
     "exception": false,
     "start_time": "2021-06-26T17:42:07.078391",
     "status": "completed"
    },
    "tags": []
   },
   "outputs": [],
   "source": [
    "# Let's remove the kmpl, CC and bhp from the values.We will create a new columns and delete these columns\n",
    "\n",
    "# function to remove kmpl,CC and bhp \n",
    "def remove(car):\n",
    "    kmpl,cc,bhp = car\n",
    "    \n",
    "    # for mileage(kmpl/kmpg)\n",
    "    kmpl = kmpl.split(' ')[0]\n",
    "    \n",
    "    # for engine(CC)\n",
    "    cc = cc.split(' ')[0]\n",
    "    \n",
    "    # for max_power\n",
    "    bhp = bhp.split(' ')[0]\n",
    "    \n",
    "    return kmpl,cc,bhp\n",
    "\n",
    "# Let's apply the above function.\n",
    "# We will create three new_columns mileage(kmpl),engine(cc).max_power(bhp) and remove the old columns\n",
    "cars[['mileage(kmpl)','engine(cc)','max_power(bhp)']] = cars[['mileage','engine','max_power']].apply(remove,axis=1,result_type='expand')\n",
    "\n",
    "\n",
    "# removing the old columns\n",
    "cars.drop(['mileage','engine','max_power'],axis = 1,inplace=True)"
   ]
  },
  {
   "cell_type": "code",
   "execution_count": 21,
   "metadata": {
    "execution": {
     "iopub.execute_input": "2021-06-26T17:42:08.100269Z",
     "iopub.status.busy": "2021-06-26T17:42:08.099608Z",
     "iopub.status.idle": "2021-06-26T17:42:08.107082Z",
     "shell.execute_reply": "2021-06-26T17:42:08.107666Z",
     "shell.execute_reply.started": "2021-06-26T16:36:20.941889Z"
    },
    "papermill": {
     "duration": 0.095056,
     "end_time": "2021-06-26T17:42:08.107845",
     "exception": false,
     "start_time": "2021-06-26T17:42:08.012789",
     "status": "completed"
    },
    "tags": []
   },
   "outputs": [],
   "source": [
    "# Let's remove the torque column as well\n",
    "cars.drop('torque',axis = 1,inplace=True)"
   ]
  },
  {
   "cell_type": "code",
   "execution_count": 22,
   "metadata": {
    "execution": {
     "iopub.execute_input": "2021-06-26T17:42:08.278736Z",
     "iopub.status.busy": "2021-06-26T17:42:08.278085Z",
     "iopub.status.idle": "2021-06-26T17:42:08.292997Z",
     "shell.execute_reply": "2021-06-26T17:42:08.293496Z",
     "shell.execute_reply.started": "2021-06-26T16:39:24.797358Z"
    },
    "papermill": {
     "duration": 0.100127,
     "end_time": "2021-06-26T17:42:08.293670",
     "exception": false,
     "start_time": "2021-06-26T17:42:08.193543",
     "status": "completed"
    },
    "tags": []
   },
   "outputs": [
    {
     "data": {
      "text/html": [
       "<div>\n",
       "<style scoped>\n",
       "    .dataframe tbody tr th:only-of-type {\n",
       "        vertical-align: middle;\n",
       "    }\n",
       "\n",
       "    .dataframe tbody tr th {\n",
       "        vertical-align: top;\n",
       "    }\n",
       "\n",
       "    .dataframe thead th {\n",
       "        text-align: right;\n",
       "    }\n",
       "</style>\n",
       "<table border=\"1\" class=\"dataframe\">\n",
       "  <thead>\n",
       "    <tr style=\"text-align: right;\">\n",
       "      <th></th>\n",
       "      <th>selling_price</th>\n",
       "      <th>km_driven</th>\n",
       "      <th>fuel</th>\n",
       "      <th>seller_type</th>\n",
       "      <th>transmission</th>\n",
       "      <th>owner</th>\n",
       "      <th>seats</th>\n",
       "      <th>number_of_year</th>\n",
       "      <th>mileage(kmpl)</th>\n",
       "      <th>engine(cc)</th>\n",
       "      <th>max_power(bhp)</th>\n",
       "    </tr>\n",
       "  </thead>\n",
       "  <tbody>\n",
       "    <tr>\n",
       "      <th>0</th>\n",
       "      <td>450000</td>\n",
       "      <td>145500</td>\n",
       "      <td>Diesel</td>\n",
       "      <td>Individual</td>\n",
       "      <td>Manual</td>\n",
       "      <td>First Owner</td>\n",
       "      <td>5.0</td>\n",
       "      <td>6</td>\n",
       "      <td>23.4</td>\n",
       "      <td>1248</td>\n",
       "      <td>74</td>\n",
       "    </tr>\n",
       "    <tr>\n",
       "      <th>1</th>\n",
       "      <td>370000</td>\n",
       "      <td>120000</td>\n",
       "      <td>Diesel</td>\n",
       "      <td>Individual</td>\n",
       "      <td>Manual</td>\n",
       "      <td>Second Owner</td>\n",
       "      <td>5.0</td>\n",
       "      <td>6</td>\n",
       "      <td>21.14</td>\n",
       "      <td>1498</td>\n",
       "      <td>103.52</td>\n",
       "    </tr>\n",
       "    <tr>\n",
       "      <th>2</th>\n",
       "      <td>158000</td>\n",
       "      <td>140000</td>\n",
       "      <td>Petrol</td>\n",
       "      <td>Individual</td>\n",
       "      <td>Manual</td>\n",
       "      <td>Third Owner</td>\n",
       "      <td>5.0</td>\n",
       "      <td>14</td>\n",
       "      <td>17.7</td>\n",
       "      <td>1497</td>\n",
       "      <td>78</td>\n",
       "    </tr>\n",
       "    <tr>\n",
       "      <th>3</th>\n",
       "      <td>225000</td>\n",
       "      <td>127000</td>\n",
       "      <td>Diesel</td>\n",
       "      <td>Individual</td>\n",
       "      <td>Manual</td>\n",
       "      <td>First Owner</td>\n",
       "      <td>5.0</td>\n",
       "      <td>10</td>\n",
       "      <td>23.0</td>\n",
       "      <td>1396</td>\n",
       "      <td>90</td>\n",
       "    </tr>\n",
       "    <tr>\n",
       "      <th>4</th>\n",
       "      <td>130000</td>\n",
       "      <td>120000</td>\n",
       "      <td>Petrol</td>\n",
       "      <td>Individual</td>\n",
       "      <td>Manual</td>\n",
       "      <td>First Owner</td>\n",
       "      <td>5.0</td>\n",
       "      <td>13</td>\n",
       "      <td>16.1</td>\n",
       "      <td>1298</td>\n",
       "      <td>88.2</td>\n",
       "    </tr>\n",
       "  </tbody>\n",
       "</table>\n",
       "</div>"
      ],
      "text/plain": [
       "   selling_price  km_driven    fuel seller_type transmission         owner  \\\n",
       "0         450000     145500  Diesel  Individual       Manual   First Owner   \n",
       "1         370000     120000  Diesel  Individual       Manual  Second Owner   \n",
       "2         158000     140000  Petrol  Individual       Manual   Third Owner   \n",
       "3         225000     127000  Diesel  Individual       Manual   First Owner   \n",
       "4         130000     120000  Petrol  Individual       Manual   First Owner   \n",
       "\n",
       "   seats  number_of_year mileage(kmpl) engine(cc) max_power(bhp)  \n",
       "0    5.0               6          23.4       1248             74  \n",
       "1    5.0               6         21.14       1498         103.52  \n",
       "2    5.0              14          17.7       1497             78  \n",
       "3    5.0              10          23.0       1396             90  \n",
       "4    5.0              13          16.1       1298           88.2  "
      ]
     },
     "execution_count": 22,
     "metadata": {},
     "output_type": "execute_result"
    }
   ],
   "source": [
    "cars.head()"
   ]
  },
  {
   "cell_type": "code",
   "execution_count": 23,
   "metadata": {
    "execution": {
     "iopub.execute_input": "2021-06-26T17:42:08.462443Z",
     "iopub.status.busy": "2021-06-26T17:42:08.461798Z",
     "iopub.status.idle": "2021-06-26T17:42:08.482492Z",
     "shell.execute_reply": "2021-06-26T17:42:08.481952Z",
     "shell.execute_reply.started": "2021-06-26T16:40:20.675970Z"
    },
    "papermill": {
     "duration": 0.106218,
     "end_time": "2021-06-26T17:42:08.482645",
     "exception": false,
     "start_time": "2021-06-26T17:42:08.376427",
     "status": "completed"
    },
    "tags": []
   },
   "outputs": [],
   "source": [
    "# Let's convert the categorical column usng one hot encoding.\n",
    "cat_cols = ['fuel','seller_type','transmission','owner']\n",
    "\n",
    "dummies = pd.get_dummies(cars[cat_cols],drop_first=True)\n",
    "\n",
    "# Let's drop the cat_cols\n",
    "cars.drop(cat_cols,axis=1,inplace=True)\n",
    "\n",
    "# Let's concatenate the dummies and cars\n",
    "cars = pd.concat([cars,dummies],axis = 1)"
   ]
  },
  {
   "cell_type": "code",
   "execution_count": 24,
   "metadata": {
    "execution": {
     "iopub.execute_input": "2021-06-26T17:42:08.655669Z",
     "iopub.status.busy": "2021-06-26T17:42:08.654141Z",
     "iopub.status.idle": "2021-06-26T17:42:08.659414Z",
     "shell.execute_reply": "2021-06-26T17:42:08.658777Z",
     "shell.execute_reply.started": "2021-06-26T16:41:37.052260Z"
    },
    "papermill": {
     "duration": 0.093564,
     "end_time": "2021-06-26T17:42:08.659561",
     "exception": false,
     "start_time": "2021-06-26T17:42:08.565997",
     "status": "completed"
    },
    "tags": []
   },
   "outputs": [],
   "source": [
    "# Let's divide the columns into X (input variable) and y (output variable)\n",
    "X = cars.drop('selling_price',axis = 1)\n",
    "y = cars['selling_price']"
   ]
  },
  {
   "cell_type": "code",
   "execution_count": 25,
   "metadata": {
    "execution": {
     "iopub.execute_input": "2021-06-26T17:42:08.834573Z",
     "iopub.status.busy": "2021-06-26T17:42:08.833745Z",
     "iopub.status.idle": "2021-06-26T17:42:09.014522Z",
     "shell.execute_reply": "2021-06-26T17:42:09.013932Z",
     "shell.execute_reply.started": "2021-06-26T16:41:58.143671Z"
    },
    "papermill": {
     "duration": 0.269916,
     "end_time": "2021-06-26T17:42:09.014665",
     "exception": false,
     "start_time": "2021-06-26T17:42:08.744749",
     "status": "completed"
    },
    "tags": []
   },
   "outputs": [],
   "source": [
    "# Let's split the data into train_set and test_set\n",
    "from sklearn.model_selection import train_test_split\n",
    "\n",
    "# We will use 20% of data as test data\n",
    "X_train,X_test,y_train,y_test = train_test_split(X,y,test_size= 0.20)"
   ]
  },
  {
   "cell_type": "code",
   "execution_count": 26,
   "metadata": {
    "execution": {
     "iopub.execute_input": "2021-06-26T17:42:09.189833Z",
     "iopub.status.busy": "2021-06-26T17:42:09.187555Z",
     "iopub.status.idle": "2021-06-26T17:42:09.231668Z",
     "shell.execute_reply": "2021-06-26T17:42:09.232167Z",
     "shell.execute_reply.started": "2021-06-26T16:49:29.385204Z"
    },
    "papermill": {
     "duration": 0.134261,
     "end_time": "2021-06-26T17:42:09.232356",
     "exception": false,
     "start_time": "2021-06-26T17:42:09.098095",
     "status": "completed"
    },
    "tags": []
   },
   "outputs": [
    {
     "name": "stderr",
     "output_type": "stream",
     "text": [
      "<ipython-input-26-146d5c4f0d01>:8: SettingWithCopyWarning: \n",
      "A value is trying to be set on a copy of a slice from a DataFrame.\n",
      "Try using .loc[row_indexer,col_indexer] = value instead\n",
      "\n",
      "See the caveats in the documentation: https://pandas.pydata.org/pandas-docs/stable/user_guide/indexing.html#returning-a-view-versus-a-copy\n",
      "  X_train[num_cols] = scaler.fit_transform(X_train[num_cols])\n",
      "C:\\Users\\Abhimanyu\\anaconda3\\lib\\site-packages\\pandas\\core\\indexing.py:1736: SettingWithCopyWarning: \n",
      "A value is trying to be set on a copy of a slice from a DataFrame.\n",
      "Try using .loc[row_indexer,col_indexer] = value instead\n",
      "\n",
      "See the caveats in the documentation: https://pandas.pydata.org/pandas-docs/stable/user_guide/indexing.html#returning-a-view-versus-a-copy\n",
      "  isetter(loc, value[:, i].tolist())\n",
      "<ipython-input-26-146d5c4f0d01>:9: SettingWithCopyWarning: \n",
      "A value is trying to be set on a copy of a slice from a DataFrame.\n",
      "Try using .loc[row_indexer,col_indexer] = value instead\n",
      "\n",
      "See the caveats in the documentation: https://pandas.pydata.org/pandas-docs/stable/user_guide/indexing.html#returning-a-view-versus-a-copy\n",
      "  X_test[num_cols] = scaler.transform(X_test[num_cols])\n",
      "C:\\Users\\Abhimanyu\\anaconda3\\lib\\site-packages\\pandas\\core\\indexing.py:1736: SettingWithCopyWarning: \n",
      "A value is trying to be set on a copy of a slice from a DataFrame.\n",
      "Try using .loc[row_indexer,col_indexer] = value instead\n",
      "\n",
      "See the caveats in the documentation: https://pandas.pydata.org/pandas-docs/stable/user_guide/indexing.html#returning-a-view-versus-a-copy\n",
      "  isetter(loc, value[:, i].tolist())\n"
     ]
    }
   ],
   "source": [
    "# Now let's scale the numerical columns in the cars data set\n",
    "num_cols =['number_of_year','km_driven','seats','mileage(kmpl)','engine(cc)','max_power(bhp)']\n",
    "\n",
    "from sklearn.preprocessing import StandardScaler\n",
    "\n",
    "scaler = StandardScaler()\n",
    "\n",
    "X_train[num_cols] = scaler.fit_transform(X_train[num_cols])\n",
    "X_test[num_cols] = scaler.transform(X_test[num_cols])"
   ]
  },
  {
   "cell_type": "code",
   "execution_count": 27,
   "metadata": {
    "execution": {
     "iopub.execute_input": "2021-06-26T17:42:09.403281Z",
     "iopub.status.busy": "2021-06-26T17:42:09.402245Z",
     "iopub.status.idle": "2021-06-26T17:42:09.407158Z",
     "shell.execute_reply": "2021-06-26T17:42:09.406636Z",
     "shell.execute_reply.started": "2021-06-26T16:49:46.066217Z"
    },
    "papermill": {
     "duration": 0.092274,
     "end_time": "2021-06-26T17:42:09.407296",
     "exception": false,
     "start_time": "2021-06-26T17:42:09.315022",
     "status": "completed"
    },
    "tags": []
   },
   "outputs": [],
   "source": [
    "# # Let's convert the X_train and y_train in to numpy arrays\n",
    "X_train = X_train.values\n",
    "X_test = X_test.values\n",
    "y_train = y_train.values\n",
    "y_test = y_test.values"
   ]
  },
  {
   "cell_type": "markdown",
   "metadata": {
    "papermill": {
     "duration": 0.082872,
     "end_time": "2021-06-26T17:42:09.572849",
     "exception": false,
     "start_time": "2021-06-26T17:42:09.489977",
     "status": "completed"
    },
    "tags": []
   },
   "source": [
    "# Let's create our Models"
   ]
  },
  {
   "cell_type": "markdown",
   "metadata": {
    "papermill": {
     "duration": 0.083035,
     "end_time": "2021-06-26T17:42:09.739615",
     "exception": false,
     "start_time": "2021-06-26T17:42:09.656580",
     "status": "completed"
    },
    "tags": []
   },
   "source": [
    "**Linear Regression**"
   ]
  },
  {
   "cell_type": "code",
   "execution_count": 28,
   "metadata": {
    "execution": {
     "iopub.execute_input": "2021-06-26T17:42:09.913661Z",
     "iopub.status.busy": "2021-06-26T17:42:09.912990Z",
     "iopub.status.idle": "2021-06-26T17:42:10.003473Z",
     "shell.execute_reply": "2021-06-26T17:42:10.002703Z",
     "shell.execute_reply.started": "2021-06-26T16:51:15.560188Z"
    },
    "papermill": {
     "duration": 0.178446,
     "end_time": "2021-06-26T17:42:10.003656",
     "exception": false,
     "start_time": "2021-06-26T17:42:09.825210",
     "status": "completed"
    },
    "tags": []
   },
   "outputs": [],
   "source": [
    "from sklearn.linear_model import LinearRegression\n",
    "\n",
    "# to evaluate the model\n",
    "from sklearn import metrics"
   ]
  },
  {
   "cell_type": "code",
   "execution_count": 29,
   "metadata": {
    "execution": {
     "iopub.execute_input": "2021-06-26T17:42:10.180305Z",
     "iopub.status.busy": "2021-06-26T17:42:10.179187Z",
     "iopub.status.idle": "2021-06-26T17:42:10.206253Z",
     "shell.execute_reply": "2021-06-26T17:42:10.207198Z",
     "shell.execute_reply.started": "2021-06-26T16:51:44.347417Z"
    },
    "papermill": {
     "duration": 0.118956,
     "end_time": "2021-06-26T17:42:10.207454",
     "exception": false,
     "start_time": "2021-06-26T17:42:10.088498",
     "status": "completed"
    },
    "tags": []
   },
   "outputs": [
    {
     "data": {
      "text/plain": [
       "LinearRegression()"
      ]
     },
     "execution_count": 29,
     "metadata": {},
     "output_type": "execute_result"
    }
   ],
   "source": [
    "linear = LinearRegression()\n",
    "\n",
    "linear.fit(X_train,y_train)"
   ]
  },
  {
   "cell_type": "code",
   "execution_count": 30,
   "metadata": {
    "execution": {
     "iopub.execute_input": "2021-06-26T17:42:10.426926Z",
     "iopub.status.busy": "2021-06-26T17:42:10.426089Z",
     "iopub.status.idle": "2021-06-26T17:42:10.431732Z",
     "shell.execute_reply": "2021-06-26T17:42:10.432667Z",
     "shell.execute_reply.started": "2021-06-26T16:52:23.052596Z"
    },
    "papermill": {
     "duration": 0.095038,
     "end_time": "2021-06-26T17:42:10.432925",
     "exception": false,
     "start_time": "2021-06-26T17:42:10.337887",
     "status": "completed"
    },
    "tags": []
   },
   "outputs": [],
   "source": [
    "# prediction\n",
    "pred_linear = linear.predict(X_test)"
   ]
  },
  {
   "cell_type": "markdown",
   "metadata": {
    "papermill": {
     "duration": 0.084067,
     "end_time": "2021-06-26T17:42:10.651972",
     "exception": false,
     "start_time": "2021-06-26T17:42:10.567905",
     "status": "completed"
    },
    "tags": []
   },
   "source": [
    "Model Evaluation"
   ]
  },
  {
   "cell_type": "code",
   "execution_count": 31,
   "metadata": {
    "execution": {
     "iopub.execute_input": "2021-06-26T17:42:10.829866Z",
     "iopub.status.busy": "2021-06-26T17:42:10.829183Z",
     "iopub.status.idle": "2021-06-26T17:42:10.832838Z",
     "shell.execute_reply": "2021-06-26T17:42:10.832290Z",
     "shell.execute_reply.started": "2021-06-26T16:55:07.787654Z"
    },
    "papermill": {
     "duration": 0.096854,
     "end_time": "2021-06-26T17:42:10.832971",
     "exception": false,
     "start_time": "2021-06-26T17:42:10.736117",
     "status": "completed"
    },
    "tags": []
   },
   "outputs": [
    {
     "name": "stdout",
     "output_type": "stream",
     "text": [
      "MEAN SQUARED ERROR FOR LINEAR REGRESSION IS: 209274907198.84433\n",
      "\n",
      "\n",
      "ROOT MEAN SQUARED ERROR FOR LINEAR REGRESSION IS: 457465.7442900444\n",
      "\n",
      "\n",
      "R2 SCORE FOR LINEAR REGRESSION IS: 0.671879968905619\n"
     ]
    }
   ],
   "source": [
    "# Mean Squared Error\n",
    "mse = metrics.mean_squared_error(y_test,pred_linear)\n",
    "\n",
    "# Root Mean Squared Error\n",
    "rmse_linear = np.sqrt(mse)\n",
    "\n",
    "# r_2 score\n",
    "r2_linear = metrics.r2_score(y_test,pred_linear)\n",
    "\n",
    "print(f'MEAN SQUARED ERROR FOR LINEAR REGRESSION IS: {mse}')\n",
    "print('\\n')\n",
    "print(f'ROOT MEAN SQUARED ERROR FOR LINEAR REGRESSION IS: {rmse_linear}')\n",
    "print('\\n')\n",
    "print(f'R2 SCORE FOR LINEAR REGRESSION IS: {r2_linear}')"
   ]
  },
  {
   "cell_type": "code",
   "execution_count": 32,
   "metadata": {
    "execution": {
     "iopub.execute_input": "2021-06-26T17:42:11.009071Z",
     "iopub.status.busy": "2021-06-26T17:42:11.008451Z",
     "iopub.status.idle": "2021-06-26T17:42:11.251185Z",
     "shell.execute_reply": "2021-06-26T17:42:11.250509Z",
     "shell.execute_reply.started": "2021-06-26T17:01:03.556645Z"
    },
    "papermill": {
     "duration": 0.333696,
     "end_time": "2021-06-26T17:42:11.251329",
     "exception": false,
     "start_time": "2021-06-26T17:42:10.917633",
     "status": "completed"
    },
    "tags": []
   },
   "outputs": [
    {
     "data": {
      "text/plain": [
       "Text(0, 0.5, 'predicted value')"
      ]
     },
     "execution_count": 32,
     "metadata": {},
     "output_type": "execute_result"
    },
    {
     "data": {
      "image/png": "[encoded data removed]",
      "text/plain": [
       "<Figure size 432x288 with 1 Axes>"
      ]
     },
     "metadata": {},
     "output_type": "display_data"
    }
   ],
   "source": [
    "# Let's create a scatter plot\n",
    "sns.scatterplot(x = y_test,y = pred_linear)\n",
    "plt.xlabel('y_test')\n",
    "plt.ylabel('predicted value')"
   ]
  },
  {
   "cell_type": "markdown",
   "metadata": {
    "papermill": {
     "duration": 0.086301,
     "end_time": "2021-06-26T17:42:11.424206",
     "exception": false,
     "start_time": "2021-06-26T17:42:11.337905",
     "status": "completed"
    },
    "tags": []
   },
   "source": [
    "**If we check the scatterplot, it is not linear which is not good for model.It says that the preidcted value varied the y_test value by large amount. Linear Regression would not work. Lets try SVR model and check if it does better then Linear regression.**"
   ]
  },
  {
   "cell_type": "markdown",
   "metadata": {
    "papermill": {
     "duration": 0.088795,
     "end_time": "2021-06-26T17:42:11.599855",
     "exception": false,
     "start_time": "2021-06-26T17:42:11.511060",
     "status": "completed"
    },
    "tags": []
   },
   "source": [
    "**SVR**"
   ]
  },
  {
   "cell_type": "code",
   "execution_count": 33,
   "metadata": {
    "execution": {
     "iopub.execute_input": "2021-06-26T17:42:11.782401Z",
     "iopub.status.busy": "2021-06-26T17:42:11.781718Z",
     "iopub.status.idle": "2021-06-26T17:42:11.784939Z",
     "shell.execute_reply": "2021-06-26T17:42:11.784429Z",
     "shell.execute_reply.started": "2021-06-26T17:06:06.251154Z"
    },
    "papermill": {
     "duration": 0.095713,
     "end_time": "2021-06-26T17:42:11.785081",
     "exception": false,
     "start_time": "2021-06-26T17:42:11.689368",
     "status": "completed"
    },
    "tags": []
   },
   "outputs": [],
   "source": [
    "from sklearn.svm import SVR\n",
    "\n",
    "# To find the best parameter for SVR model\n",
    "from sklearn.model_selection import GridSearchCV"
   ]
  },
  {
   "cell_type": "code",
   "execution_count": 34,
   "metadata": {
    "execution": {
     "iopub.execute_input": "2021-06-26T17:42:11.965586Z",
     "iopub.status.busy": "2021-06-26T17:42:11.964622Z",
     "iopub.status.idle": "2021-06-26T17:42:11.967476Z",
     "shell.execute_reply": "2021-06-26T17:42:11.966827Z",
     "shell.execute_reply.started": "2021-06-26T17:07:02.094221Z"
    },
    "papermill": {
     "duration": 0.094532,
     "end_time": "2021-06-26T17:42:11.967611",
     "exception": false,
     "start_time": "2021-06-26T17:42:11.873079",
     "status": "completed"
    },
    "tags": []
   },
   "outputs": [],
   "source": [
    "# HyperParameter Tunning\n",
    "param_grid = {\n",
    "    'C':[0.1,1,10,100],\n",
    "    'gamma':[1,0.1,0.01,0.001],\n",
    "    'kernel':['rbf','linear','poly']\n",
    "}\n",
    "\n",
    "grid = GridSearchCV(SVR(),param_grid=param_grid,verbose=2,scoring='neg_mean_squared_error')"
   ]
  },
  {
   "cell_type": "code",
   "execution_count": 35,
   "metadata": {
    "execution": {
     "iopub.execute_input": "2021-06-26T17:42:12.145048Z",
     "iopub.status.busy": "2021-06-26T17:42:12.144101Z",
     "iopub.status.idle": "2021-06-26T17:48:26.211621Z",
     "shell.execute_reply": "2021-06-26T17:48:26.212109Z",
     "shell.execute_reply.started": "2021-06-26T17:07:10.381137Z"
    },
    "papermill": {
     "duration": 374.158097,
     "end_time": "2021-06-26T17:48:26.212298",
     "exception": false,
     "start_time": "2021-06-26T17:42:12.054201",
     "status": "completed"
    },
    "tags": []
   },
   "outputs": [
    {
     "name": "stdout",
     "output_type": "stream",
     "text": [
      "Fitting 5 folds for each of 48 candidates, totalling 240 fits\n",
      "[CV] END .........................C=0.1, gamma=1, kernel=rbf; total time=   4.2s\n",
      "[CV] END .........................C=0.1, gamma=1, kernel=rbf; total time=   4.0s\n",
      "[CV] END .........................C=0.1, gamma=1, kernel=rbf; total time=   3.9s\n",
      "[CV] END .........................C=0.1, gamma=1, kernel=rbf; total time=   4.0s\n",
      "[CV] END .........................C=0.1, gamma=1, kernel=rbf; total time=   4.1s\n",
      "[CV] END ......................C=0.1, gamma=1, kernel=linear; total time=   2.4s\n",
      "[CV] END ......................C=0.1, gamma=1, kernel=linear; total time=   2.4s\n",
      "[CV] END ......................C=0.1, gamma=1, kernel=linear; total time=   2.3s\n",
      "[CV] END ......................C=0.1, gamma=1, kernel=linear; total time=   2.3s\n",
      "[CV] END ......................C=0.1, gamma=1, kernel=linear; total time=   2.3s\n",
      "[CV] END ........................C=0.1, gamma=1, kernel=poly; total time=   2.7s\n",
      "[CV] END ........................C=0.1, gamma=1, kernel=poly; total time=   2.7s\n",
      "[CV] END ........................C=0.1, gamma=1, kernel=poly; total time=   2.4s\n",
      "[CV] END ........................C=0.1, gamma=1, kernel=poly; total time=   2.4s\n",
      "[CV] END ........................C=0.1, gamma=1, kernel=poly; total time=   2.3s\n",
      "[CV] END .......................C=0.1, gamma=0.1, kernel=rbf; total time=   3.9s\n",
      "[CV] END .......................C=0.1, gamma=0.1, kernel=rbf; total time=   4.2s\n",
      "[CV] END .......................C=0.1, gamma=0.1, kernel=rbf; total time=   4.1s\n",
      "[CV] END .......................C=0.1, gamma=0.1, kernel=rbf; total time=   4.0s\n",
      "[CV] END .......................C=0.1, gamma=0.1, kernel=rbf; total time=   4.0s\n",
      "[CV] END ....................C=0.1, gamma=0.1, kernel=linear; total time=   2.5s\n",
      "[CV] END ....................C=0.1, gamma=0.1, kernel=linear; total time=   2.4s\n",
      "[CV] END ....................C=0.1, gamma=0.1, kernel=linear; total time=   2.3s\n",
      "[CV] END ....................C=0.1, gamma=0.1, kernel=linear; total time=   2.3s\n",
      "[CV] END ....................C=0.1, gamma=0.1, kernel=linear; total time=   2.3s\n",
      "[CV] END ......................C=0.1, gamma=0.1, kernel=poly; total time=   2.4s\n",
      "[CV] END ......................C=0.1, gamma=0.1, kernel=poly; total time=   2.5s\n",
      "[CV] END ......................C=0.1, gamma=0.1, kernel=poly; total time=   2.5s\n",
      "[CV] END ......................C=0.1, gamma=0.1, kernel=poly; total time=   2.4s\n",
      "[CV] END ......................C=0.1, gamma=0.1, kernel=poly; total time=   2.3s\n",
      "[CV] END ......................C=0.1, gamma=0.01, kernel=rbf; total time=   4.1s\n",
      "[CV] END ......................C=0.1, gamma=0.01, kernel=rbf; total time=   4.2s\n",
      "[CV] END ......................C=0.1, gamma=0.01, kernel=rbf; total time=   4.2s\n",
      "[CV] END ......................C=0.1, gamma=0.01, kernel=rbf; total time=   4.1s\n",
      "[CV] END ......................C=0.1, gamma=0.01, kernel=rbf; total time=   3.9s\n",
      "[CV] END ...................C=0.1, gamma=0.01, kernel=linear; total time=   2.4s\n",
      "[CV] END ...................C=0.1, gamma=0.01, kernel=linear; total time=   2.4s\n",
      "[CV] END ...................C=0.1, gamma=0.01, kernel=linear; total time=   2.2s\n",
      "[CV] END ...................C=0.1, gamma=0.01, kernel=linear; total time=   2.3s\n",
      "[CV] END ...................C=0.1, gamma=0.01, kernel=linear; total time=   2.3s\n",
      "[CV] END .....................C=0.1, gamma=0.01, kernel=poly; total time=   2.4s\n",
      "[CV] END .....................C=0.1, gamma=0.01, kernel=poly; total time=   2.4s\n",
      "[CV] END .....................C=0.1, gamma=0.01, kernel=poly; total time=   2.6s\n",
      "[CV] END .....................C=0.1, gamma=0.01, kernel=poly; total time=   2.5s\n",
      "[CV] END .....................C=0.1, gamma=0.01, kernel=poly; total time=   2.4s\n",
      "[CV] END .....................C=0.1, gamma=0.001, kernel=rbf; total time=   4.0s\n",
      "[CV] END .....................C=0.1, gamma=0.001, kernel=rbf; total time=   4.1s\n",
      "[CV] END .....................C=0.1, gamma=0.001, kernel=rbf; total time=   4.2s\n",
      "[CV] END .....................C=0.1, gamma=0.001, kernel=rbf; total time=   4.2s\n",
      "[CV] END .....................C=0.1, gamma=0.001, kernel=rbf; total time=   4.1s\n",
      "[CV] END ..................C=0.1, gamma=0.001, kernel=linear; total time=   2.3s\n",
      "[CV] END ..................C=0.1, gamma=0.001, kernel=linear; total time=   2.5s\n",
      "[CV] END ..................C=0.1, gamma=0.001, kernel=linear; total time=   2.4s\n",
      "[CV] END ..................C=0.1, gamma=0.001, kernel=linear; total time=   2.4s\n",
      "[CV] END ..................C=0.1, gamma=0.001, kernel=linear; total time=   2.3s\n",
      "[CV] END ....................C=0.1, gamma=0.001, kernel=poly; total time=   2.4s\n",
      "[CV] END ....................C=0.1, gamma=0.001, kernel=poly; total time=   2.4s\n",
      "[CV] END ....................C=0.1, gamma=0.001, kernel=poly; total time=   2.4s\n",
      "[CV] END ....................C=0.1, gamma=0.001, kernel=poly; total time=   2.6s\n",
      "[CV] END ....................C=0.1, gamma=0.001, kernel=poly; total time=   2.5s\n",
      "[CV] END ...........................C=1, gamma=1, kernel=rbf; total time=   3.9s\n",
      "[CV] END ...........................C=1, gamma=1, kernel=rbf; total time=   3.9s\n",
      "[CV] END ...........................C=1, gamma=1, kernel=rbf; total time=   4.1s\n",
      "[CV] END ...........................C=1, gamma=1, kernel=rbf; total time=   4.1s\n",
      "[CV] END ...........................C=1, gamma=1, kernel=rbf; total time=   3.8s\n",
      "[CV] END ........................C=1, gamma=1, kernel=linear; total time=   2.3s\n",
      "[CV] END ........................C=1, gamma=1, kernel=linear; total time=   2.1s\n",
      "[CV] END ........................C=1, gamma=1, kernel=linear; total time=   2.3s\n",
      "[CV] END ........................C=1, gamma=1, kernel=linear; total time=   2.5s\n",
      "[CV] END ........................C=1, gamma=1, kernel=linear; total time=   2.3s\n",
      "[CV] END ..........................C=1, gamma=1, kernel=poly; total time=   2.4s\n",
      "[CV] END ..........................C=1, gamma=1, kernel=poly; total time=   2.5s\n",
      "[CV] END ..........................C=1, gamma=1, kernel=poly; total time=   2.5s\n",
      "[CV] END ..........................C=1, gamma=1, kernel=poly; total time=   2.4s\n",
      "[CV] END ..........................C=1, gamma=1, kernel=poly; total time=   2.6s\n",
      "[CV] END .........................C=1, gamma=0.1, kernel=rbf; total time=   4.1s\n",
      "[CV] END .........................C=1, gamma=0.1, kernel=rbf; total time=   4.0s\n",
      "[CV] END .........................C=1, gamma=0.1, kernel=rbf; total time=   4.0s\n",
      "[CV] END .........................C=1, gamma=0.1, kernel=rbf; total time=   4.4s\n",
      "[CV] END .........................C=1, gamma=0.1, kernel=rbf; total time=   4.1s\n",
      "[CV] END ......................C=1, gamma=0.1, kernel=linear; total time=   2.3s\n",
      "[CV] END ......................C=1, gamma=0.1, kernel=linear; total time=   2.3s\n",
      "[CV] END ......................C=1, gamma=0.1, kernel=linear; total time=   2.3s\n",
      "[CV] END ......................C=1, gamma=0.1, kernel=linear; total time=   2.2s\n",
      "[CV] END ......................C=1, gamma=0.1, kernel=linear; total time=   2.4s\n",
      "[CV] END ........................C=1, gamma=0.1, kernel=poly; total time=   2.5s\n",
      "[CV] END ........................C=1, gamma=0.1, kernel=poly; total time=   2.4s\n",
      "[CV] END ........................C=1, gamma=0.1, kernel=poly; total time=   2.4s\n",
      "[CV] END ........................C=1, gamma=0.1, kernel=poly; total time=   2.4s\n",
      "[CV] END ........................C=1, gamma=0.1, kernel=poly; total time=   2.4s\n",
      "[CV] END ........................C=1, gamma=0.01, kernel=rbf; total time=   4.1s\n",
      "[CV] END ........................C=1, gamma=0.01, kernel=rbf; total time=   4.0s\n",
      "[CV] END ........................C=1, gamma=0.01, kernel=rbf; total time=   4.1s\n",
      "[CV] END ........................C=1, gamma=0.01, kernel=rbf; total time=   4.2s\n",
      "[CV] END ........................C=1, gamma=0.01, kernel=rbf; total time=   4.1s\n",
      "[CV] END .....................C=1, gamma=0.01, kernel=linear; total time=   2.3s\n",
      "[CV] END .....................C=1, gamma=0.01, kernel=linear; total time=   2.3s\n",
      "[CV] END .....................C=1, gamma=0.01, kernel=linear; total time=   2.3s\n",
      "[CV] END .....................C=1, gamma=0.01, kernel=linear; total time=   2.3s\n",
      "[CV] END .....................C=1, gamma=0.01, kernel=linear; total time=   2.4s\n",
      "[CV] END .......................C=1, gamma=0.01, kernel=poly; total time=   2.3s\n"
     ]
    },
    {
     "name": "stdout",
     "output_type": "stream",
     "text": [
      "[CV] END .......................C=1, gamma=0.01, kernel=poly; total time=   2.4s\n",
      "[CV] END .......................C=1, gamma=0.01, kernel=poly; total time=   2.4s\n",
      "[CV] END .......................C=1, gamma=0.01, kernel=poly; total time=   2.4s\n",
      "[CV] END .......................C=1, gamma=0.01, kernel=poly; total time=   2.4s\n",
      "[CV] END .......................C=1, gamma=0.001, kernel=rbf; total time=   4.2s\n",
      "[CV] END .......................C=1, gamma=0.001, kernel=rbf; total time=   4.1s\n",
      "[CV] END .......................C=1, gamma=0.001, kernel=rbf; total time=   3.9s\n",
      "[CV] END .......................C=1, gamma=0.001, kernel=rbf; total time=   3.9s\n",
      "[CV] END .......................C=1, gamma=0.001, kernel=rbf; total time=   4.1s\n",
      "[CV] END ....................C=1, gamma=0.001, kernel=linear; total time=   2.4s\n",
      "[CV] END ....................C=1, gamma=0.001, kernel=linear; total time=   2.4s\n",
      "[CV] END ....................C=1, gamma=0.001, kernel=linear; total time=   2.3s\n",
      "[CV] END ....................C=1, gamma=0.001, kernel=linear; total time=   2.3s\n",
      "[CV] END ....................C=1, gamma=0.001, kernel=linear; total time=   2.3s\n",
      "[CV] END ......................C=1, gamma=0.001, kernel=poly; total time=   2.4s\n",
      "[CV] END ......................C=1, gamma=0.001, kernel=poly; total time=   2.4s\n",
      "[CV] END ......................C=1, gamma=0.001, kernel=poly; total time=   2.4s\n",
      "[CV] END ......................C=1, gamma=0.001, kernel=poly; total time=   2.5s\n",
      "[CV] END ......................C=1, gamma=0.001, kernel=poly; total time=   2.4s\n",
      "[CV] END ..........................C=10, gamma=1, kernel=rbf; total time=   3.9s\n",
      "[CV] END ..........................C=10, gamma=1, kernel=rbf; total time=   4.0s\n",
      "[CV] END ..........................C=10, gamma=1, kernel=rbf; total time=   4.0s\n",
      "[CV] END ..........................C=10, gamma=1, kernel=rbf; total time=   3.9s\n",
      "[CV] END ..........................C=10, gamma=1, kernel=rbf; total time=   3.9s\n",
      "[CV] END .......................C=10, gamma=1, kernel=linear; total time=   2.5s\n",
      "[CV] END .......................C=10, gamma=1, kernel=linear; total time=   2.2s\n",
      "[CV] END .......................C=10, gamma=1, kernel=linear; total time=   2.2s\n",
      "[CV] END .......................C=10, gamma=1, kernel=linear; total time=   2.2s\n",
      "[CV] END .......................C=10, gamma=1, kernel=linear; total time=   2.3s\n",
      "[CV] END .........................C=10, gamma=1, kernel=poly; total time=   2.5s\n",
      "[CV] END .........................C=10, gamma=1, kernel=poly; total time=   2.8s\n",
      "[CV] END .........................C=10, gamma=1, kernel=poly; total time=   2.6s\n",
      "[CV] END .........................C=10, gamma=1, kernel=poly; total time=   2.5s\n",
      "[CV] END .........................C=10, gamma=1, kernel=poly; total time=   2.5s\n",
      "[CV] END ........................C=10, gamma=0.1, kernel=rbf; total time=   4.0s\n",
      "[CV] END ........................C=10, gamma=0.1, kernel=rbf; total time=   4.2s\n",
      "[CV] END ........................C=10, gamma=0.1, kernel=rbf; total time=   4.1s\n",
      "[CV] END ........................C=10, gamma=0.1, kernel=rbf; total time=   4.0s\n",
      "[CV] END ........................C=10, gamma=0.1, kernel=rbf; total time=   4.0s\n",
      "[CV] END .....................C=10, gamma=0.1, kernel=linear; total time=   2.3s\n",
      "[CV] END .....................C=10, gamma=0.1, kernel=linear; total time=   2.5s\n",
      "[CV] END .....................C=10, gamma=0.1, kernel=linear; total time=   2.4s\n",
      "[CV] END .....................C=10, gamma=0.1, kernel=linear; total time=   2.3s\n",
      "[CV] END .....................C=10, gamma=0.1, kernel=linear; total time=   2.3s\n",
      "[CV] END .......................C=10, gamma=0.1, kernel=poly; total time=   2.3s\n",
      "[CV] END .......................C=10, gamma=0.1, kernel=poly; total time=   2.3s\n",
      "[CV] END .......................C=10, gamma=0.1, kernel=poly; total time=   2.4s\n",
      "[CV] END .......................C=10, gamma=0.1, kernel=poly; total time=   2.3s\n",
      "[CV] END .......................C=10, gamma=0.1, kernel=poly; total time=   2.5s\n",
      "[CV] END .......................C=10, gamma=0.01, kernel=rbf; total time=   4.1s\n",
      "[CV] END .......................C=10, gamma=0.01, kernel=rbf; total time=   4.1s\n",
      "[CV] END .......................C=10, gamma=0.01, kernel=rbf; total time=   4.2s\n",
      "[CV] END .......................C=10, gamma=0.01, kernel=rbf; total time=   4.1s\n",
      "[CV] END .......................C=10, gamma=0.01, kernel=rbf; total time=   4.1s\n",
      "[CV] END ....................C=10, gamma=0.01, kernel=linear; total time=   2.1s\n",
      "[CV] END ....................C=10, gamma=0.01, kernel=linear; total time=   2.2s\n",
      "[CV] END ....................C=10, gamma=0.01, kernel=linear; total time=   2.3s\n",
      "[CV] END ....................C=10, gamma=0.01, kernel=linear; total time=   2.3s\n",
      "[CV] END ....................C=10, gamma=0.01, kernel=linear; total time=   2.1s\n",
      "[CV] END ......................C=10, gamma=0.01, kernel=poly; total time=   2.4s\n",
      "[CV] END ......................C=10, gamma=0.01, kernel=poly; total time=   2.4s\n",
      "[CV] END ......................C=10, gamma=0.01, kernel=poly; total time=   2.4s\n",
      "[CV] END ......................C=10, gamma=0.01, kernel=poly; total time=   2.5s\n",
      "[CV] END ......................C=10, gamma=0.01, kernel=poly; total time=   2.5s\n",
      "[CV] END ......................C=10, gamma=0.001, kernel=rbf; total time=   4.1s\n",
      "[CV] END ......................C=10, gamma=0.001, kernel=rbf; total time=   4.1s\n",
      "[CV] END ......................C=10, gamma=0.001, kernel=rbf; total time=   4.1s\n",
      "[CV] END ......................C=10, gamma=0.001, kernel=rbf; total time=   4.3s\n",
      "[CV] END ......................C=10, gamma=0.001, kernel=rbf; total time=   4.1s\n",
      "[CV] END ...................C=10, gamma=0.001, kernel=linear; total time=   2.4s\n",
      "[CV] END ...................C=10, gamma=0.001, kernel=linear; total time=   2.3s\n",
      "[CV] END ...................C=10, gamma=0.001, kernel=linear; total time=   2.3s\n",
      "[CV] END ...................C=10, gamma=0.001, kernel=linear; total time=   2.5s\n",
      "[CV] END ...................C=10, gamma=0.001, kernel=linear; total time=   2.4s\n",
      "[CV] END .....................C=10, gamma=0.001, kernel=poly; total time=   2.3s\n",
      "[CV] END .....................C=10, gamma=0.001, kernel=poly; total time=   2.3s\n",
      "[CV] END .....................C=10, gamma=0.001, kernel=poly; total time=   2.4s\n",
      "[CV] END .....................C=10, gamma=0.001, kernel=poly; total time=   2.4s\n",
      "[CV] END .....................C=10, gamma=0.001, kernel=poly; total time=   2.5s\n",
      "[CV] END .........................C=100, gamma=1, kernel=rbf; total time=   4.1s\n",
      "[CV] END .........................C=100, gamma=1, kernel=rbf; total time=   3.9s\n",
      "[CV] END .........................C=100, gamma=1, kernel=rbf; total time=   3.9s\n",
      "[CV] END .........................C=100, gamma=1, kernel=rbf; total time=   4.1s\n",
      "[CV] END .........................C=100, gamma=1, kernel=rbf; total time=   4.0s\n",
      "[CV] END ......................C=100, gamma=1, kernel=linear; total time=   2.2s\n",
      "[CV] END ......................C=100, gamma=1, kernel=linear; total time=   2.2s\n",
      "[CV] END ......................C=100, gamma=1, kernel=linear; total time=   2.0s\n",
      "[CV] END ......................C=100, gamma=1, kernel=linear; total time=   2.2s\n",
      "[CV] END ......................C=100, gamma=1, kernel=linear; total time=   2.4s\n",
      "[CV] END ........................C=100, gamma=1, kernel=poly; total time=   3.9s\n",
      "[CV] END ........................C=100, gamma=1, kernel=poly; total time=   3.9s\n",
      "[CV] END ........................C=100, gamma=1, kernel=poly; total time=   3.3s\n",
      "[CV] END ........................C=100, gamma=1, kernel=poly; total time=   3.1s\n",
      "[CV] END ........................C=100, gamma=1, kernel=poly; total time=   3.5s\n",
      "[CV] END .......................C=100, gamma=0.1, kernel=rbf; total time=   4.0s\n",
      "[CV] END .......................C=100, gamma=0.1, kernel=rbf; total time=   4.0s\n",
      "[CV] END .......................C=100, gamma=0.1, kernel=rbf; total time=   3.8s\n",
      "[CV] END .......................C=100, gamma=0.1, kernel=rbf; total time=   4.1s\n",
      "[CV] END .......................C=100, gamma=0.1, kernel=rbf; total time=   3.9s\n",
      "[CV] END ....................C=100, gamma=0.1, kernel=linear; total time=   2.3s\n",
      "[CV] END ....................C=100, gamma=0.1, kernel=linear; total time=   2.2s\n",
      "[CV] END ....................C=100, gamma=0.1, kernel=linear; total time=   2.0s\n"
     ]
    },
    {
     "name": "stdout",
     "output_type": "stream",
     "text": [
      "[CV] END ....................C=100, gamma=0.1, kernel=linear; total time=   2.4s\n",
      "[CV] END ....................C=100, gamma=0.1, kernel=linear; total time=   2.3s\n",
      "[CV] END ......................C=100, gamma=0.1, kernel=poly; total time=   2.4s\n",
      "[CV] END ......................C=100, gamma=0.1, kernel=poly; total time=   2.4s\n",
      "[CV] END ......................C=100, gamma=0.1, kernel=poly; total time=   2.3s\n",
      "[CV] END ......................C=100, gamma=0.1, kernel=poly; total time=   2.4s\n",
      "[CV] END ......................C=100, gamma=0.1, kernel=poly; total time=   2.4s\n",
      "[CV] END ......................C=100, gamma=0.01, kernel=rbf; total time=   4.3s\n",
      "[CV] END ......................C=100, gamma=0.01, kernel=rbf; total time=   3.9s\n",
      "[CV] END ......................C=100, gamma=0.01, kernel=rbf; total time=   3.9s\n",
      "[CV] END ......................C=100, gamma=0.01, kernel=rbf; total time=   4.1s\n",
      "[CV] END ......................C=100, gamma=0.01, kernel=rbf; total time=   4.3s\n",
      "[CV] END ...................C=100, gamma=0.01, kernel=linear; total time=   2.2s\n",
      "[CV] END ...................C=100, gamma=0.01, kernel=linear; total time=   2.2s\n",
      "[CV] END ...................C=100, gamma=0.01, kernel=linear; total time=   2.1s\n",
      "[CV] END ...................C=100, gamma=0.01, kernel=linear; total time=   2.1s\n",
      "[CV] END ...................C=100, gamma=0.01, kernel=linear; total time=   2.0s\n",
      "[CV] END .....................C=100, gamma=0.01, kernel=poly; total time=   2.4s\n",
      "[CV] END .....................C=100, gamma=0.01, kernel=poly; total time=   2.3s\n",
      "[CV] END .....................C=100, gamma=0.01, kernel=poly; total time=   2.3s\n",
      "[CV] END .....................C=100, gamma=0.01, kernel=poly; total time=   2.4s\n",
      "[CV] END .....................C=100, gamma=0.01, kernel=poly; total time=   2.4s\n",
      "[CV] END .....................C=100, gamma=0.001, kernel=rbf; total time=   3.9s\n",
      "[CV] END .....................C=100, gamma=0.001, kernel=rbf; total time=   4.1s\n",
      "[CV] END .....................C=100, gamma=0.001, kernel=rbf; total time=   3.9s\n",
      "[CV] END .....................C=100, gamma=0.001, kernel=rbf; total time=   4.1s\n",
      "[CV] END .....................C=100, gamma=0.001, kernel=rbf; total time=   4.0s\n",
      "[CV] END ..................C=100, gamma=0.001, kernel=linear; total time=   2.3s\n",
      "[CV] END ..................C=100, gamma=0.001, kernel=linear; total time=   2.1s\n",
      "[CV] END ..................C=100, gamma=0.001, kernel=linear; total time=   2.2s\n",
      "[CV] END ..................C=100, gamma=0.001, kernel=linear; total time=   2.0s\n",
      "[CV] END ..................C=100, gamma=0.001, kernel=linear; total time=   2.0s\n",
      "[CV] END ....................C=100, gamma=0.001, kernel=poly; total time=   2.4s\n",
      "[CV] END ....................C=100, gamma=0.001, kernel=poly; total time=   2.5s\n",
      "[CV] END ....................C=100, gamma=0.001, kernel=poly; total time=   2.4s\n",
      "[CV] END ....................C=100, gamma=0.001, kernel=poly; total time=   2.4s\n",
      "[CV] END ....................C=100, gamma=0.001, kernel=poly; total time=   2.4s\n"
     ]
    },
    {
     "data": {
      "text/plain": [
       "GridSearchCV(estimator=SVR(),\n",
       "             param_grid={'C': [0.1, 1, 10, 100], 'gamma': [1, 0.1, 0.01, 0.001],\n",
       "                         'kernel': ['rbf', 'linear', 'poly']},\n",
       "             scoring='neg_mean_squared_error', verbose=2)"
      ]
     },
     "execution_count": 35,
     "metadata": {},
     "output_type": "execute_result"
    }
   ],
   "source": [
    "grid.fit(X_train,y_train)"
   ]
  },
  {
   "cell_type": "code",
   "execution_count": 36,
   "metadata": {
    "execution": {
     "iopub.execute_input": "2021-06-26T17:48:26.529265Z",
     "iopub.status.busy": "2021-06-26T17:48:26.528431Z",
     "iopub.status.idle": "2021-06-26T17:48:26.531983Z",
     "shell.execute_reply": "2021-06-26T17:48:26.532440Z",
     "shell.execute_reply.started": "2021-06-26T17:12:58.435033Z"
    },
    "papermill": {
     "duration": 0.165064,
     "end_time": "2021-06-26T17:48:26.532603",
     "exception": false,
     "start_time": "2021-06-26T17:48:26.367539",
     "status": "completed"
    },
    "tags": []
   },
   "outputs": [
    {
     "data": {
      "text/plain": [
       "{'C': 100, 'gamma': 1, 'kernel': 'poly'}"
      ]
     },
     "execution_count": 36,
     "metadata": {},
     "output_type": "execute_result"
    }
   ],
   "source": [
    "grid.best_params_"
   ]
  },
  {
   "cell_type": "code",
   "execution_count": 37,
   "metadata": {
    "execution": {
     "iopub.execute_input": "2021-06-26T17:48:26.849228Z",
     "iopub.status.busy": "2021-06-26T17:48:26.848252Z",
     "iopub.status.idle": "2021-06-26T17:48:28.451346Z",
     "shell.execute_reply": "2021-06-26T17:48:28.450779Z",
     "shell.execute_reply.started": "2021-06-26T17:18:39.357865Z"
    },
    "papermill": {
     "duration": 1.76437,
     "end_time": "2021-06-26T17:48:28.451522",
     "exception": false,
     "start_time": "2021-06-26T17:48:26.687152",
     "status": "completed"
    },
    "tags": []
   },
   "outputs": [
    {
     "data": {
      "text/plain": [
       "SVR(C=100, gamma=1, kernel='linear')"
      ]
     },
     "execution_count": 37,
     "metadata": {},
     "output_type": "execute_result"
    }
   ],
   "source": [
    "# Let's use these parameter to crete our SVR model\n",
    "svr = SVR(C=100,gamma=1,kernel='linear')\n",
    "\n",
    "svr.fit(X_train,y_train)"
   ]
  },
  {
   "cell_type": "code",
   "execution_count": 38,
   "metadata": {
    "execution": {
     "iopub.execute_input": "2021-06-26T17:48:28.774223Z",
     "iopub.status.busy": "2021-06-26T17:48:28.773585Z",
     "iopub.status.idle": "2021-06-26T17:48:28.997308Z",
     "shell.execute_reply": "2021-06-26T17:48:28.996724Z",
     "shell.execute_reply.started": "2021-06-26T17:18:46.984625Z"
    },
    "papermill": {
     "duration": 0.38624,
     "end_time": "2021-06-26T17:48:28.997458",
     "exception": false,
     "start_time": "2021-06-26T17:48:28.611218",
     "status": "completed"
    },
    "tags": []
   },
   "outputs": [],
   "source": [
    "# prediction\n",
    "pred_svr = svr.predict(X_test)"
   ]
  },
  {
   "cell_type": "markdown",
   "metadata": {
    "papermill": {
     "duration": 0.158555,
     "end_time": "2021-06-26T17:48:29.315011",
     "exception": false,
     "start_time": "2021-06-26T17:48:29.156456",
     "status": "completed"
    },
    "tags": []
   },
   "source": [
    "Model Evaluation"
   ]
  },
  {
   "cell_type": "code",
   "execution_count": 39,
   "metadata": {
    "execution": {
     "iopub.execute_input": "2021-06-26T17:48:29.636945Z",
     "iopub.status.busy": "2021-06-26T17:48:29.636156Z",
     "iopub.status.idle": "2021-06-26T17:48:29.639262Z",
     "shell.execute_reply": "2021-06-26T17:48:29.639745Z",
     "shell.execute_reply.started": "2021-06-26T17:18:49.652900Z"
    },
    "papermill": {
     "duration": 0.16799,
     "end_time": "2021-06-26T17:48:29.639903",
     "exception": false,
     "start_time": "2021-06-26T17:48:29.471913",
     "status": "completed"
    },
    "tags": []
   },
   "outputs": [
    {
     "name": "stdout",
     "output_type": "stream",
     "text": [
      "MEAN SQUARED ERROR FOR SVR IS: 399335419769.4958\n",
      "\n",
      "\n",
      "ROOT MEAN SQUARED ERROR FOR SVR IS: 631929.9168179141\n",
      "\n",
      "\n",
      "R2 SCORE FOR SVR IS: 0.3738859947152888\n"
     ]
    }
   ],
   "source": [
    "# Mean Squared Error\n",
    "mse = metrics.mean_squared_error(y_test,pred_svr)\n",
    "\n",
    "# Root Mean Squared Error\n",
    "rmse_svr = np.sqrt(mse)\n",
    "\n",
    "# r_2 score\n",
    "r2_svr = metrics.r2_score(y_test,pred_svr)\n",
    "\n",
    "print(f'MEAN SQUARED ERROR FOR SVR IS: {mse}')\n",
    "print('\\n')\n",
    "print(f'ROOT MEAN SQUARED ERROR FOR SVR IS: {rmse_svr}')\n",
    "print('\\n')\n",
    "print(f'R2 SCORE FOR SVR IS: {r2_svr}')"
   ]
  },
  {
   "cell_type": "code",
   "execution_count": 40,
   "metadata": {
    "execution": {
     "iopub.execute_input": "2021-06-26T17:48:29.965525Z",
     "iopub.status.busy": "2021-06-26T17:48:29.961007Z",
     "iopub.status.idle": "2021-06-26T17:48:30.184406Z",
     "shell.execute_reply": "2021-06-26T17:48:30.183865Z",
     "shell.execute_reply.started": "2021-06-26T17:18:51.475699Z"
    },
    "papermill": {
     "duration": 0.385234,
     "end_time": "2021-06-26T17:48:30.184546",
     "exception": false,
     "start_time": "2021-06-26T17:48:29.799312",
     "status": "completed"
    },
    "tags": []
   },
   "outputs": [
    {
     "data": {
      "text/plain": [
       "Text(0, 0.5, 'predicted value')"
      ]
     },
     "execution_count": 40,
     "metadata": {},
     "output_type": "execute_result"
    },
    {
     "data": {
      "image/png": "[encoded data removed]",
      "text/plain": [
       "<Figure size 432x288 with 1 Axes>"
      ]
     },
     "metadata": {},
     "output_type": "display_data"
    }
   ],
   "source": [
    "# Let's create a scatter plot\n",
    "sns.scatterplot(x = y_test,y = pred_svr)\n",
    "plt.xlabel('y_test')\n",
    "plt.ylabel('predicted value')"
   ]
  },
  {
   "cell_type": "markdown",
   "metadata": {
    "papermill": {
     "duration": 0.157091,
     "end_time": "2021-06-26T17:48:30.498793",
     "exception": false,
     "start_time": "2021-06-26T17:48:30.341702",
     "status": "completed"
    },
    "tags": []
   },
   "source": [
    "**Seeing the rmse scroe and scatterplot, we can conclude SVR model performed worse then Linear Regression**"
   ]
  },
  {
   "cell_type": "markdown",
   "metadata": {
    "papermill": {
     "duration": 0.159724,
     "end_time": "2021-06-26T17:48:30.816082",
     "exception": false,
     "start_time": "2021-06-26T17:48:30.656358",
     "status": "completed"
    },
    "tags": []
   },
   "source": [
    "**RandomForest**"
   ]
  },
  {
   "cell_type": "code",
   "execution_count": 41,
   "metadata": {
    "execution": {
     "iopub.execute_input": "2021-06-26T17:48:31.176221Z",
     "iopub.status.busy": "2021-06-26T17:48:31.175439Z",
     "iopub.status.idle": "2021-06-26T17:48:31.296249Z",
     "shell.execute_reply": "2021-06-26T17:48:31.296807Z",
     "shell.execute_reply.started": "2021-06-26T17:22:59.072715Z"
    },
    "papermill": {
     "duration": 0.281038,
     "end_time": "2021-06-26T17:48:31.297005",
     "exception": false,
     "start_time": "2021-06-26T17:48:31.015967",
     "status": "completed"
    },
    "tags": []
   },
   "outputs": [],
   "source": [
    "from sklearn.ensemble import RandomForestRegressor\n",
    "\n",
    "# To find the best parameter\n",
    "from sklearn.model_selection import RandomizedSearchCV"
   ]
  },
  {
   "cell_type": "code",
   "execution_count": 42,
   "metadata": {
    "execution": {
     "iopub.execute_input": "2021-06-26T17:48:31.622714Z",
     "iopub.status.busy": "2021-06-26T17:48:31.622021Z",
     "iopub.status.idle": "2021-06-26T17:48:31.625407Z",
     "shell.execute_reply": "2021-06-26T17:48:31.624811Z",
     "shell.execute_reply.started": "2021-06-26T17:23:18.174238Z"
    },
    "papermill": {
     "duration": 0.171656,
     "end_time": "2021-06-26T17:48:31.625531",
     "exception": false,
     "start_time": "2021-06-26T17:48:31.453875",
     "status": "completed"
    },
    "tags": []
   },
   "outputs": [],
   "source": [
    "random = RandomForestRegressor(n_jobs=-1)\n",
    "\n",
    "hyper_parameters = {\n",
    "    'max_depth' : [int(x) for x in np.linspace(5,40,8)],\n",
    "    'n_estimators' : [int(x) for x in np.linspace(100,1500,15)],\n",
    "    'max_features': ['auto','sqrt'],\n",
    "    'min_samples_leaf': [1,2,5,10],\n",
    "    'min_samples_split':[2,5,10,15,100]\n",
    "}\n",
    "\n",
    "rf_random = RandomizedSearchCV(estimator=random,param_distributions=hyper_parameters,scoring='neg_mean_squared_error',n_iter = 10,cv=5,verbose=2,n_jobs=-1)"
   ]
  },
  {
   "cell_type": "code",
   "execution_count": 43,
   "metadata": {
    "execution": {
     "iopub.execute_input": "2021-06-26T17:48:31.944786Z",
     "iopub.status.busy": "2021-06-26T17:48:31.944081Z",
     "iopub.status.idle": "2021-06-26T17:50:00.467789Z",
     "shell.execute_reply": "2021-06-26T17:50:00.468276Z",
     "shell.execute_reply.started": "2021-06-26T17:23:36.128621Z"
    },
    "papermill": {
     "duration": 88.68656,
     "end_time": "2021-06-26T17:50:00.468455",
     "exception": false,
     "start_time": "2021-06-26T17:48:31.781895",
     "status": "completed"
    },
    "tags": []
   },
   "outputs": [
    {
     "name": "stdout",
     "output_type": "stream",
     "text": [
      "Fitting 5 folds for each of 10 candidates, totalling 50 fits\n"
     ]
    },
    {
     "data": {
      "text/plain": [
       "RandomizedSearchCV(cv=5, estimator=RandomForestRegressor(n_jobs=-1), n_jobs=-1,\n",
       "                   param_distributions={'max_depth': [5, 10, 15, 20, 25, 30, 35,\n",
       "                                                      40],\n",
       "                                        'max_features': ['auto', 'sqrt'],\n",
       "                                        'min_samples_leaf': [1, 2, 5, 10],\n",
       "                                        'min_samples_split': [2, 5, 10, 15,\n",
       "                                                              100],\n",
       "                                        'n_estimators': [100, 200, 300, 400,\n",
       "                                                         500, 600, 700, 800,\n",
       "                                                         900, 1000, 1100, 1200,\n",
       "                                                         1300, 1400, 1500]},\n",
       "                   scoring='neg_mean_squared_error', verbose=2)"
      ]
     },
     "execution_count": 43,
     "metadata": {},
     "output_type": "execute_result"
    }
   ],
   "source": [
    "rf_random.fit(X_train,y_train)"
   ]
  },
  {
   "cell_type": "code",
   "execution_count": 44,
   "metadata": {
    "execution": {
     "iopub.execute_input": "2021-06-26T17:50:00.778843Z",
     "iopub.status.busy": "2021-06-26T17:50:00.777911Z",
     "iopub.status.idle": "2021-06-26T17:50:00.783211Z",
     "shell.execute_reply": "2021-06-26T17:50:00.783739Z",
     "shell.execute_reply.started": "2021-06-26T17:26:38.991933Z"
    },
    "papermill": {
     "duration": 0.163062,
     "end_time": "2021-06-26T17:50:00.783888",
     "exception": false,
     "start_time": "2021-06-26T17:50:00.620826",
     "status": "completed"
    },
    "tags": []
   },
   "outputs": [
    {
     "data": {
      "text/plain": [
       "{'n_estimators': 500,\n",
       " 'min_samples_split': 10,\n",
       " 'min_samples_leaf': 1,\n",
       " 'max_features': 'auto',\n",
       " 'max_depth': 30}"
      ]
     },
     "execution_count": 44,
     "metadata": {},
     "output_type": "execute_result"
    }
   ],
   "source": [
    "# Let's check the best parameter\n",
    "rf_random.best_params_"
   ]
  },
  {
   "cell_type": "code",
   "execution_count": 45,
   "metadata": {
    "execution": {
     "iopub.execute_input": "2021-06-26T17:50:01.095853Z",
     "iopub.status.busy": "2021-06-26T17:50:01.094994Z",
     "iopub.status.idle": "2021-06-26T17:50:01.099018Z",
     "shell.execute_reply": "2021-06-26T17:50:01.099481Z",
     "shell.execute_reply.started": "2021-06-26T17:28:54.208634Z"
    },
    "papermill": {
     "duration": 0.162776,
     "end_time": "2021-06-26T17:50:01.099627",
     "exception": false,
     "start_time": "2021-06-26T17:50:00.936851",
     "status": "completed"
    },
    "tags": []
   },
   "outputs": [],
   "source": [
    "# Let's use these parameters to train our model\n",
    "random = RandomForestRegressor(n_estimators=500,min_samples_split=2,min_samples_leaf=1,max_features='auto',max_depth=15)"
   ]
  },
  {
   "cell_type": "code",
   "execution_count": 46,
   "metadata": {
    "execution": {
     "iopub.execute_input": "2021-06-26T17:50:01.407143Z",
     "iopub.status.busy": "2021-06-26T17:50:01.406226Z",
     "iopub.status.idle": "2021-06-26T17:50:16.409920Z",
     "shell.execute_reply": "2021-06-26T17:50:16.410440Z",
     "shell.execute_reply.started": "2021-06-26T17:29:48.834649Z"
    },
    "papermill": {
     "duration": 15.161373,
     "end_time": "2021-06-26T17:50:16.410608",
     "exception": false,
     "start_time": "2021-06-26T17:50:01.249235",
     "status": "completed"
    },
    "tags": []
   },
   "outputs": [
    {
     "data": {
      "text/plain": [
       "RandomForestRegressor(max_depth=15, n_estimators=500)"
      ]
     },
     "execution_count": 46,
     "metadata": {},
     "output_type": "execute_result"
    }
   ],
   "source": [
    "random.fit(X_train,y_train)"
   ]
  },
  {
   "cell_type": "code",
   "execution_count": 47,
   "metadata": {
    "execution": {
     "iopub.execute_input": "2021-06-26T17:50:16.733911Z",
     "iopub.status.busy": "2021-06-26T17:50:16.733004Z",
     "iopub.status.idle": "2021-06-26T17:50:17.072529Z",
     "shell.execute_reply": "2021-06-26T17:50:17.072967Z",
     "shell.execute_reply.started": "2021-06-26T17:30:08.266420Z"
    },
    "papermill": {
     "duration": 0.502524,
     "end_time": "2021-06-26T17:50:17.073157",
     "exception": false,
     "start_time": "2021-06-26T17:50:16.570633",
     "status": "completed"
    },
    "tags": []
   },
   "outputs": [],
   "source": [
    "# prediction\n",
    "pred_random = random.predict(X_test)"
   ]
  },
  {
   "cell_type": "markdown",
   "metadata": {
    "papermill": {
     "duration": 0.195073,
     "end_time": "2021-06-26T17:50:17.457095",
     "exception": false,
     "start_time": "2021-06-26T17:50:17.262022",
     "status": "completed"
    },
    "tags": []
   },
   "source": [
    "Model Evaluation"
   ]
  },
  {
   "cell_type": "code",
   "execution_count": 48,
   "metadata": {
    "execution": {
     "iopub.execute_input": "2021-06-26T17:50:17.845008Z",
     "iopub.status.busy": "2021-06-26T17:50:17.843995Z",
     "iopub.status.idle": "2021-06-26T17:50:17.852078Z",
     "shell.execute_reply": "2021-06-26T17:50:17.852562Z",
     "shell.execute_reply.started": "2021-06-26T17:32:03.428254Z"
    },
    "papermill": {
     "duration": 0.200879,
     "end_time": "2021-06-26T17:50:17.852722",
     "exception": false,
     "start_time": "2021-06-26T17:50:17.651843",
     "status": "completed"
    },
    "tags": []
   },
   "outputs": [
    {
     "name": "stdout",
     "output_type": "stream",
     "text": [
      "MEAN SQUARED ERROR FOR RANDOM FOREST REGRESSOR IS: 15530150514.307945\n",
      "\n",
      "\n",
      "ROOT MEAN SQUARED ERROR FOR RANDOM FOREST REGRESSOR IS: 124620.02453180606\n",
      "\n",
      "\n",
      "R2 SCORE FOR RANDOM FOREST REGRESSOR IS: 0.9756504325441494\n"
     ]
    }
   ],
   "source": [
    "# Mean Squared Error\n",
    "mse = metrics.mean_squared_error(y_test,pred_random)\n",
    "\n",
    "# Root Mean Squared Error\n",
    "rmse_random = np.sqrt(mse)\n",
    "\n",
    "# r_2 score\n",
    "r2_random = metrics.r2_score(y_test,pred_random)\n",
    "\n",
    "print(f'MEAN SQUARED ERROR FOR RANDOM FOREST REGRESSOR IS: {mse}')\n",
    "print('\\n')\n",
    "print(f'ROOT MEAN SQUARED ERROR FOR RANDOM FOREST REGRESSOR IS: {rmse_random}')\n",
    "print('\\n')\n",
    "print(f'R2 SCORE FOR RANDOM FOREST REGRESSOR IS: {r2_random}')"
   ]
  },
  {
   "cell_type": "code",
   "execution_count": 49,
   "metadata": {
    "execution": {
     "iopub.execute_input": "2021-06-26T17:50:18.177883Z",
     "iopub.status.busy": "2021-06-26T17:50:18.174739Z",
     "iopub.status.idle": "2021-06-26T17:50:18.388490Z",
     "shell.execute_reply": "2021-06-26T17:50:18.387969Z",
     "shell.execute_reply.started": "2021-06-26T17:32:49.892382Z"
    },
    "papermill": {
     "duration": 0.378949,
     "end_time": "2021-06-26T17:50:18.388640",
     "exception": false,
     "start_time": "2021-06-26T17:50:18.009691",
     "status": "completed"
    },
    "tags": []
   },
   "outputs": [
    {
     "data": {
      "text/plain": [
       "Text(0, 0.5, 'predicted value')"
      ]
     },
     "execution_count": 49,
     "metadata": {},
     "output_type": "execute_result"
    },
    {
     "data": {
      "image/png": "[encoded data removed]",
      "text/plain": [
       "<Figure size 432x288 with 1 Axes>"
      ]
     },
     "metadata": {},
     "output_type": "display_data"
    }
   ],
   "source": [
    "# Let's create a scatter plot\n",
    "sns.scatterplot(x = y_test,y = pred_random)\n",
    "plt.xlabel('y_test')\n",
    "plt.ylabel('predicted value')"
   ]
  },
  {
   "cell_type": "markdown",
   "metadata": {
    "papermill": {
     "duration": 0.162597,
     "end_time": "2021-06-26T17:50:18.712011",
     "exception": false,
     "start_time": "2021-06-26T17:50:18.549414",
     "status": "completed"
    },
    "tags": []
   },
   "source": [
    "**If we check the scatter plot, it forms some what like a linear line.It shows our model performance is good**"
   ]
  },
  {
   "cell_type": "markdown",
   "metadata": {
    "papermill": {
     "duration": 0.161086,
     "end_time": "2021-06-26T17:50:19.033393",
     "exception": false,
     "start_time": "2021-06-26T17:50:18.872307",
     "status": "completed"
    },
    "tags": []
   },
   "source": [
    "**Random Forest performed very well as compared to Linear Regressor and SVR**"
   ]
  },
  {
   "cell_type": "code",
   "execution_count": 50,
   "metadata": {
    "papermill": {
     "duration": 0.159451,
     "end_time": "2021-06-26T17:50:19.660309",
     "exception": false,
     "start_time": "2021-06-26T17:50:19.500858",
     "status": "completed"
    },
    "tags": []
   },
   "outputs": [],
   "source": [
    "# Let's save the random forest model fro end to end deployment\n",
    "# we will use pickle to do it\n",
    "import pickle"
   ]
  },
  {
   "cell_type": "code",
   "execution_count": 51,
   "metadata": {},
   "outputs": [],
   "source": [
    "pickle.dump(rf_random,open('car_price.pkl','wb'))"
   ]
  },
  {
   "cell_type": "code",
   "execution_count": 52,
   "metadata": {},
   "outputs": [],
   "source": [
    "# Let's also save the scaler which can be used to scale the new values entered by the user\n",
    "pickle.dump(scaler,open('scaler.pkl','wb'))"
   ]
  },
  {
   "cell_type": "markdown",
   "metadata": {
    "papermill": {
     "duration": 0.157135,
     "end_time": "2021-06-26T17:50:19.343859",
     "exception": false,
     "start_time": "2021-06-26T17:50:19.186724",
     "status": "completed"
    },
    "tags": []
   },
   "source": [
    "# THANK YOU"
   ]
  }
 ],
 "metadata": {
  "kernelspec": {
   "display_name": "Python 3",
   "language": "python",
   "name": "python3"
  },
  "language_info": {
   "codemirror_mode": {
    "name": "ipython",
    "version": 3
   },
   "file_extension": ".py",
   "mimetype": "text/x-python",
   "name": "python",
   "nbconvert_exporter": "python",
   "pygments_lexer": "ipython3",
   "version": "3.8.5"
  },
  "papermill": {
   "default_parameters": {},
   "duration": 510.015431,
   "end_time": "2021-06-26T17:50:20.927665",
   "environment_variables": {},
   "exception": null,
   "input_path": "__notebook__.ipynb",
   "output_path": "__notebook__.ipynb",
   "parameters": {},
   "start_time": "2021-06-26T17:41:50.912234",
   "version": "2.3.2"
  }
 },
 "nbformat": 4,
 "nbformat_minor": 5
}
